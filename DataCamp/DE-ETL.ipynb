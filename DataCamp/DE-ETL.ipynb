{
 "cells": [
  {
   "attachments": {},
   "cell_type": "markdown",
   "metadata": {},
   "source": [
    "# Extract, Transform and Load\n",
    "\n",
    "ETL is the most frequent process for data engineers, DE needs to integrate data from various heterogeneous sources for data analysts and data scientist.\n",
    "\n",
    "This practice is under a context where DE needs to get sales data from a URL and then store it locally."
   ]
  },
  {
   "attachments": {},
   "cell_type": "markdown",
   "metadata": {},
   "source": [
    "## Extract\n",
    "Extract data from a storage, I request data and data are sent back. \n",
    "\n",
    "In this case, I have an URL to source data.\n",
    "\n",
    "### 1. requests library\n",
    "\n",
    "**GET** request/fetch data from a resource"
   ]
  },
  {
   "cell_type": "code",
   "execution_count": 1,
   "metadata": {},
   "outputs": [
    {
     "name": "stdout",
     "output_type": "stream",
     "text": [
      "200\n",
      "{'Date': 'Sat, 29 Apr 2023 20:36:55 GMT', 'Content-Type': 'application/octet-stream', 'Content-Length': '249296', 'Connection': 'keep-alive', 'x-amz-id-2': 'EcqpYuhELCzFHdZw/qZoDw/Ju0QJ+ABowRlv6WshZQoZg/lvfeUPma+tLlbiM8kUasP4McOaAkM=', 'x-amz-request-id': '6KZWC3W4RVWAFY5S', 'Last-Modified': 'Sun, 30 May 2021 14:00:42 GMT', 'x-amz-version-id': 'yT6365UyrWqhSlRsEPyBehY7HKsnLPmH', 'ETag': '\"5840e486b3afdf58267d80163cb5d0cf\"', 'CF-Cache-Status': 'HIT', 'Accept-Ranges': 'bytes', 'Set-Cookie': '__cf_bm=PMyjAoywd0cbAzn0rDhJgXcDLI1YxbC_0YK.og4UcSA-1682800615-0-Ace695pya0bPiXk4p0E8CdyB6oJg+5kmx+BN53/hV2b28c7E5FoaZ9HVbin/OS4qhATtui8e/rU2TH3UvsyriDs=; path=/; expires=Sat, 29-Apr-23 21:06:55 GMT; domain=.datacamp.com; HttpOnly; Secure; SameSite=None', 'Vary': 'Accept-Encoding', 'Server': 'cloudflare', 'CF-RAY': '7bfa5705cbe200a7-LHR'}\n"
     ]
    }
   ],
   "source": [
    "# requests library\n",
    "import requests\n",
    "\n",
    "# Get the zip file\n",
    "path = \"https://assets.datacamp.com/production/repositories/5899/datasets/19d6cf619d6a771314f0eb489262a31f89c424c2/ppr-all.zip\"\n",
    "response = requests.get(path)\n",
    "\n",
    "# Print the status code, 200 means ok\n",
    "print(response.status_code)\n",
    "\n",
    "# Print the headers (metadata)\n",
    "print(response.headers)\n",
    "\n"
   ]
  },
  {
   "attachments": {},
   "cell_type": "markdown",
   "metadata": {},
   "source": [
    "### 2. f-strings to build a local path\n",
    "\n",
    "f-strings is a fancy way to format strings, it combines expressions inside string literals."
   ]
  },
  {
   "cell_type": "code",
   "execution_count": null,
   "metadata": {},
   "outputs": [],
   "source": [
    "# os library\n",
    "import os\n",
    "\n",
    "# "
   ]
  },
  {
   "cell_type": "code",
   "execution_count": null,
   "metadata": {},
   "outputs": [],
   "source": [
    "# Save the file locally, with can close the file,\n",
    "local_path = f\"D:/Learn_DS/Git/python-learning/DataCamp/PPR-ALL.zip\"\n",
    "with open(local_path, \"wb\") as f:\n",
    "    f.write(response.content)"
   ]
  },
  {
   "cell_type": "code",
   "execution_count": 12,
   "metadata": {},
   "outputs": [
    {
     "name": "stdout",
     "output_type": "stream",
     "text": [
      "['ppr-all.csv']\n",
      "d:\\Learn_DS\\Git\\python-learning\\DataCamp\\ppr-all.csv\n"
     ]
    }
   ],
   "source": [
    "# Unzipped the ZIP file\n",
    "from zipfile import ZipFile\n",
    "\n",
    "with ZipFile(local_path, mode=\"r\") as f:\n",
    "  \t# Get the list of files and print it\n",
    "    file_names = f.namelist()\n",
    "    print(file_names)\n",
    "    # Extract the csv file\n",
    "     # Extract the CSV file\n",
    "    csv_file_path = f.extract(file_names[0])\n",
    "    print(csv_file_path)\n",
    "\n"
   ]
  },
  {
   "attachments": {},
   "cell_type": "markdown",
   "metadata": {},
   "source": [
    "# Transform\n"
   ]
  }
 ],
 "metadata": {
  "kernelspec": {
   "display_name": "base",
   "language": "python",
   "name": "python3"
  },
  "language_info": {
   "codemirror_mode": {
    "name": "ipython",
    "version": 3
   },
   "file_extension": ".py",
   "mimetype": "text/x-python",
   "name": "python",
   "nbconvert_exporter": "python",
   "pygments_lexer": "ipython3",
   "version": "3.9.12"
  },
  "orig_nbformat": 4
 },
 "nbformat": 4,
 "nbformat_minor": 2
}
