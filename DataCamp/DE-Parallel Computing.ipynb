{
 "cells": [
  {
   "attachments": {},
   "cell_type": "markdown",
   "metadata": {},
   "source": [
    "## Parallel Computing\n",
    "\n",
    " - Parallel computing can optimise the use of multiple processing units.\n",
    " - Parallel computing can optimise the use of memory between several machines."
   ]
  },
  {
   "attachments": {},
   "cell_type": "markdown",
   "metadata": {},
   "source": [
    "## Prepare dataset and functions"
   ]
  },
  {
   "cell_type": "code",
   "execution_count": 13,
   "metadata": {},
   "outputs": [],
   "source": [
    "import pandas as pd"
   ]
  },
  {
   "cell_type": "code",
   "execution_count": 14,
   "metadata": {},
   "outputs": [],
   "source": [
    "import time\n",
    "\n",
    "def print_timing(func):\n",
    "    \"\"\"\n",
    "    Decorator function that prints the execution time of a function.\n",
    "    \"\"\"\n",
    "    def wrapper(*args, **kwargs):\n",
    "        start_time = time.time()\n",
    "        result = func(*args, **kwargs)\n",
    "        end_time = time.time()\n",
    "        print(f\"Elapsed time: {end_time - start_time:.6f} seconds\")\n",
    "        return result\n",
    "    return wrapper\n"
   ]
  },
  {
   "cell_type": "code",
   "execution_count": 15,
   "metadata": {},
   "outputs": [
    {
     "name": "stdout",
     "output_type": "stream",
     "text": [
      "<class 'pandas.core.frame.DataFrame'>\n",
      "Int64Index: 105803 entries, 1 to 271115\n",
      "Data columns (total 15 columns):\n",
      " #   Column  Non-Null Count   Dtype  \n",
      "---  ------  --------------   -----  \n",
      " 0   ID      105803 non-null  int64  \n",
      " 1   Name    105803 non-null  object \n",
      " 2   Sex     105803 non-null  object \n",
      " 3   Age     105788 non-null  float64\n",
      " 4   Height  102950 non-null  float64\n",
      " 5   Weight  102497 non-null  float64\n",
      " 6   Team    105803 non-null  object \n",
      " 7   NOC     105803 non-null  object \n",
      " 8   Games   105803 non-null  object \n",
      " 9   Year    105803 non-null  int64  \n",
      " 10  Season  105803 non-null  object \n",
      " 11  City    105803 non-null  object \n",
      " 12  Sport   105803 non-null  object \n",
      " 13  Event   105803 non-null  object \n",
      " 14  Medal   14751 non-null   object \n",
      "dtypes: float64(3), int64(2), object(10)\n",
      "memory usage: 12.9+ MB\n"
     ]
    },
    {
     "data": {
      "text/html": [
       "<div>\n",
       "<style scoped>\n",
       "    .dataframe tbody tr th:only-of-type {\n",
       "        vertical-align: middle;\n",
       "    }\n",
       "\n",
       "    .dataframe tbody tr th {\n",
       "        vertical-align: top;\n",
       "    }\n",
       "\n",
       "    .dataframe thead th {\n",
       "        text-align: right;\n",
       "    }\n",
       "</style>\n",
       "<table border=\"1\" class=\"dataframe\">\n",
       "  <thead>\n",
       "    <tr style=\"text-align: right;\">\n",
       "      <th></th>\n",
       "      <th>ID</th>\n",
       "      <th>Name</th>\n",
       "      <th>Sex</th>\n",
       "      <th>Age</th>\n",
       "      <th>Height</th>\n",
       "      <th>Weight</th>\n",
       "      <th>Team</th>\n",
       "      <th>NOC</th>\n",
       "      <th>Games</th>\n",
       "      <th>Year</th>\n",
       "      <th>Season</th>\n",
       "      <th>City</th>\n",
       "      <th>Sport</th>\n",
       "      <th>Event</th>\n",
       "      <th>Medal</th>\n",
       "    </tr>\n",
       "  </thead>\n",
       "  <tbody>\n",
       "    <tr>\n",
       "      <th>90338</th>\n",
       "      <td>45783</td>\n",
       "      <td>Natasha Hansen</td>\n",
       "      <td>F</td>\n",
       "      <td>22.0</td>\n",
       "      <td>167.0</td>\n",
       "      <td>66.0</td>\n",
       "      <td>New Zealand</td>\n",
       "      <td>NZL</td>\n",
       "      <td>2012 Summer</td>\n",
       "      <td>2012</td>\n",
       "      <td>Summer</td>\n",
       "      <td>London</td>\n",
       "      <td>Cycling</td>\n",
       "      <td>Cycling Women's Sprint</td>\n",
       "      <td>NaN</td>\n",
       "    </tr>\n",
       "    <tr>\n",
       "      <th>36464</th>\n",
       "      <td>18749</td>\n",
       "      <td>Myriam Casanova</td>\n",
       "      <td>F</td>\n",
       "      <td>19.0</td>\n",
       "      <td>172.0</td>\n",
       "      <td>70.0</td>\n",
       "      <td>Switzerland</td>\n",
       "      <td>SUI</td>\n",
       "      <td>2004 Summer</td>\n",
       "      <td>2004</td>\n",
       "      <td>Summer</td>\n",
       "      <td>Athina</td>\n",
       "      <td>Tennis</td>\n",
       "      <td>Tennis Women's Singles</td>\n",
       "      <td>NaN</td>\n",
       "    </tr>\n",
       "    <tr>\n",
       "      <th>229141</th>\n",
       "      <td>115048</td>\n",
       "      <td>Ingo Steuer</td>\n",
       "      <td>M</td>\n",
       "      <td>31.0</td>\n",
       "      <td>173.0</td>\n",
       "      <td>68.0</td>\n",
       "      <td>Germany-1</td>\n",
       "      <td>GER</td>\n",
       "      <td>1998 Winter</td>\n",
       "      <td>1998</td>\n",
       "      <td>Winter</td>\n",
       "      <td>Nagano</td>\n",
       "      <td>Figure Skating</td>\n",
       "      <td>Figure Skating Mixed Pairs</td>\n",
       "      <td>Bronze</td>\n",
       "    </tr>\n",
       "    <tr>\n",
       "      <th>155603</th>\n",
       "      <td>78113</td>\n",
       "      <td>Kenneth Nathaniel Medwood</td>\n",
       "      <td>M</td>\n",
       "      <td>24.0</td>\n",
       "      <td>178.0</td>\n",
       "      <td>75.0</td>\n",
       "      <td>Belize</td>\n",
       "      <td>BIZ</td>\n",
       "      <td>2012 Summer</td>\n",
       "      <td>2012</td>\n",
       "      <td>Summer</td>\n",
       "      <td>London</td>\n",
       "      <td>Athletics</td>\n",
       "      <td>Athletics Men's 400 metres Hurdles</td>\n",
       "      <td>NaN</td>\n",
       "    </tr>\n",
       "    <tr>\n",
       "      <th>105609</th>\n",
       "      <td>53414</td>\n",
       "      <td>Michael Georg Jakosits</td>\n",
       "      <td>M</td>\n",
       "      <td>26.0</td>\n",
       "      <td>184.0</td>\n",
       "      <td>85.0</td>\n",
       "      <td>Germany</td>\n",
       "      <td>GER</td>\n",
       "      <td>1996 Summer</td>\n",
       "      <td>1996</td>\n",
       "      <td>Summer</td>\n",
       "      <td>Atlanta</td>\n",
       "      <td>Shooting</td>\n",
       "      <td>Shooting Men's Running Target, 10 metres</td>\n",
       "      <td>NaN</td>\n",
       "    </tr>\n",
       "  </tbody>\n",
       "</table>\n",
       "</div>"
      ],
      "text/plain": [
       "            ID                       Name Sex   Age  Height  Weight  \\\n",
       "90338    45783             Natasha Hansen   F  22.0   167.0    66.0   \n",
       "36464    18749            Myriam Casanova   F  19.0   172.0    70.0   \n",
       "229141  115048                Ingo Steuer   M  31.0   173.0    68.0   \n",
       "155603   78113  Kenneth Nathaniel Medwood   M  24.0   178.0    75.0   \n",
       "105609   53414     Michael Georg Jakosits   M  26.0   184.0    85.0   \n",
       "\n",
       "               Team  NOC        Games  Year  Season     City           Sport  \\\n",
       "90338   New Zealand  NZL  2012 Summer  2012  Summer   London         Cycling   \n",
       "36464   Switzerland  SUI  2004 Summer  2004  Summer   Athina          Tennis   \n",
       "229141    Germany-1  GER  1998 Winter  1998  Winter   Nagano  Figure Skating   \n",
       "155603       Belize  BIZ  2012 Summer  2012  Summer   London       Athletics   \n",
       "105609      Germany  GER  1996 Summer  1996  Summer  Atlanta        Shooting   \n",
       "\n",
       "                                           Event   Medal  \n",
       "90338                     Cycling Women's Sprint     NaN  \n",
       "36464                     Tennis Women's Singles     NaN  \n",
       "229141                Figure Skating Mixed Pairs  Bronze  \n",
       "155603        Athletics Men's 400 metres Hurdles     NaN  \n",
       "105609  Shooting Men's Running Target, 10 metres     NaN  "
      ]
     },
     "execution_count": 15,
     "metadata": {},
     "output_type": "execute_result"
    }
   ],
   "source": [
    "athlete_events = pd.read_csv(\"athlete_events.csv\")\n",
    "# fiter the rows where the \"Year\" is greater or equal to 1993\n",
    "athlete_events = athlete_events[athlete_events[\"Year\"] >= 1993]\n",
    "athlete_events.info()\n",
    "athlete_events.sample(5)\n"
   ]
  },
  {
   "cell_type": "code",
   "execution_count": 16,
   "metadata": {},
   "outputs": [],
   "source": [
    "# define a function to calcuate the mean age for each group\n",
    "def take_mean_age(year_and_group):\n",
    "    year, group = year_and_group\n",
    "    return pd.DataFrame({\"Age\": group[\"Age\"].mean()}, index=[year])"
   ]
  },
  {
   "attachments": {},
   "cell_type": "markdown",
   "metadata": {},
   "source": [
    "### multiprocessing.Pool API splits up a task to do calculations on several processing units."
   ]
  },
  {
   "cell_type": "code",
   "execution_count": 17,
   "metadata": {},
   "outputs": [
    {
     "data": {
      "text/plain": [
       "\"\\nfrom multiprocessing import Pool\\n\\n# Function to apply a function over multiple cores\\n@print_timing\\ndef parallel_apply(apply_func, groups, nb_cores, chunksize):\\n    with Pool(nb_cores) as p:\\n        results = p.map(apply_func, groups, chunksize=chunksize)\\n    return pd.concat(results)\\n\\n# Parallel apply using 2 core\\nparallel_apply(take_mean_age, athlete_events.groupby('Year'), 2, 10000)\\n\""
      ]
     },
     "execution_count": 17,
     "metadata": {},
     "output_type": "execute_result"
    }
   ],
   "source": [
    "\"\"\"\n",
    "from multiprocessing import Pool\n",
    "\n",
    "# Function to apply a function over multiple cores\n",
    "@print_timing\n",
    "def parallel_apply(apply_func, groups, nb_cores, chunksize):\n",
    "    with Pool(nb_cores) as p:\n",
    "        results = p.map(apply_func, groups, chunksize=chunksize)\n",
    "    return pd.concat(results)\n",
    "\n",
    "# Parallel apply using 2 core\n",
    "parallel_apply(take_mean_age, athlete_events.groupby('Year'), 2, 10000)\n",
    "\"\"\""
   ]
  },
  {
   "attachments": {},
   "cell_type": "markdown",
   "metadata": {},
   "source": [
    "### Another method is using the dask framework and its abstraction of the pandas DataFrame."
   ]
  },
  {
   "cell_type": "code",
   "execution_count": 18,
   "metadata": {},
   "outputs": [
    {
     "name": "stdout",
     "output_type": "stream",
     "text": [
      "Year\n",
      "1994    24.422103\n",
      "1996    24.915045\n",
      "1998    25.163197\n",
      "2000    25.422504\n",
      "2002    25.916281\n",
      "2004    25.639515\n",
      "2006    25.959151\n",
      "2008    25.734118\n",
      "2010    26.124262\n",
      "2012    25.961378\n",
      "2014    25.987324\n",
      "2016    26.207919\n",
      "Name: Age, dtype: float64\n"
     ]
    }
   ],
   "source": [
    "import dask.dataframe as dd\n",
    "\n",
    "# Set the number of partitions\n",
    "athlete_events_dask = dd.from_pandas(athlete_events, npartitions=4)\n",
    "\n",
    "# Calculate the mean Age per Year\n",
    "print(athlete_events_dask.groupby('Year').Age.mean().compute())"
   ]
  }
 ],
 "metadata": {
  "kernelspec": {
   "display_name": "base",
   "language": "python",
   "name": "python3"
  },
  "language_info": {
   "codemirror_mode": {
    "name": "ipython",
    "version": 3
   },
   "file_extension": ".py",
   "mimetype": "text/x-python",
   "name": "python",
   "nbconvert_exporter": "python",
   "pygments_lexer": "ipython3",
   "version": "3.9.12"
  },
  "orig_nbformat": 4
 },
 "nbformat": 4,
 "nbformat_minor": 2
}
