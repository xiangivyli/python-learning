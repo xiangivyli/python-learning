{
 "cells": [
  {
   "cell_type": "markdown",
   "metadata": {},
   "source": [
    "### 1. String Concatenation"
   ]
  },
  {
   "cell_type": "code",
   "execution_count": 2,
   "metadata": {},
   "outputs": [
    {
     "name": "stdout",
     "output_type": "stream",
     "text": [
      "20 days are 28800 minutes\n"
     ]
    }
   ],
   "source": [
    "print(\"20 days are \" + str(20 * 24 * 60) + \" minutes\")"
   ]
  },
  {
   "cell_type": "code",
   "execution_count": 3,
   "metadata": {},
   "outputs": [
    {
     "name": "stdout",
     "output_type": "stream",
     "text": [
      "20 days are 28800 minutes\n"
     ]
    }
   ],
   "source": [
    "# f-string uses the value of the expression {50}\n",
    "print(f\"20 days are {20 * 24 * 60} minutes\")"
   ]
  },
  {
   "cell_type": "markdown",
   "metadata": {},
   "source": [
    "### 2. Variables\n",
    "Python is dynamically typed, it means it does not require any pre-defined data type for any variable as it is interpreted at runtime by the machine itself."
   ]
  },
  {
   "cell_type": "code",
   "execution_count": 38,
   "metadata": {},
   "outputs": [
    {
     "name": "stdout",
     "output_type": "stream",
     "text": [
      "20 days are 1728000 seconds\n"
     ]
    }
   ],
   "source": [
    "# define seconds per day\n",
    "calculation_to_seconds = 24 * 60 * 60\n",
    "name_of_seconds = \"seconds\"\n",
    "# using the variables to calculate\n",
    "print(f\"20 days are {20 * calculation_to_seconds} {name_of_seconds}\")"
   ]
  },
  {
   "cell_type": "code",
   "execution_count": 39,
   "metadata": {},
   "outputs": [
    {
     "name": "stdout",
     "output_type": "stream",
     "text": [
      "20 days are 480 hours\n"
     ]
    }
   ],
   "source": [
    "# define hours per day which are global scope\n",
    "calculation_to_hours = 24\n",
    "name_of_hours = \"hours\"\n",
    "# using the variables to calculate\n",
    "print(f\"20 days are {20 * calculation_to_hours} {name_of_hours}\")"
   ]
  },
  {
   "cell_type": "markdown",
   "metadata": {},
   "source": [
    "### 3. Functions"
   ]
  },
  {
   "cell_type": "code",
   "execution_count": 40,
   "metadata": {},
   "outputs": [],
   "source": [
    "# create function\n",
    "def days_to_units_1():\n",
    "    print(f\"20 days are {20 * calculation_to_hours} {name_of_hours}\")\n",
    "    print(\"All good!\")"
   ]
  },
  {
   "cell_type": "code",
   "execution_count": 41,
   "metadata": {},
   "outputs": [
    {
     "name": "stdout",
     "output_type": "stream",
     "text": [
      "20 days are 480 hours\n",
      "All good!\n"
     ]
    }
   ],
   "source": [
    "# call the function\n",
    "days_to_units_1()"
   ]
  },
  {
   "cell_type": "code",
   "execution_count": 42,
   "metadata": {},
   "outputs": [],
   "source": [
    "# add parameters to the function\n",
    "def days_to_units_2(num_of_days):\n",
    "    print(f\"{num_of_days} days are {num_of_days * calculation_to_hours} {name_of_hours}\")\n",
    "    print(\"All good!\")"
   ]
  },
  {
   "cell_type": "code",
   "execution_count": 43,
   "metadata": {},
   "outputs": [
    {
     "name": "stdout",
     "output_type": "stream",
     "text": [
      "35 days are 840 hours\n",
      "All good!\n",
      "77 days are 1848 hours\n",
      "All good!\n",
      "84 days are 2016 hours\n",
      "All good!\n",
      "125 days are 3000 hours\n",
      "All good!\n"
     ]
    }
   ],
   "source": [
    "# call the function again with parameters\n",
    "days_to_units_2(35)\n",
    "days_to_units_2(77)\n",
    "days_to_units_2(84)\n",
    "days_to_units_2(125)"
   ]
  },
  {
   "cell_type": "code",
   "execution_count": 44,
   "metadata": {},
   "outputs": [],
   "source": [
    "# add two parameters which are local scope\n",
    "def days_to_units_3(num_of_days, custom_message): \n",
    "    print(f\"{num_of_days} days are {num_of_days * calculation_to_hours} {name_of_hours}\")\n",
    "    print(custom_message)"
   ]
  },
  {
   "cell_type": "code",
   "execution_count": 45,
   "metadata": {},
   "outputs": [
    {
     "name": "stdout",
     "output_type": "stream",
     "text": [
      "45 days are 1080 hours\n",
      "I love it\n"
     ]
    }
   ],
   "source": [
    "# call the function\n",
    "days_to_units_3(45, \"I love it\")"
   ]
  },
  {
   "cell_type": "code",
   "execution_count": 46,
   "metadata": {},
   "outputs": [
    {
     "name": "stdout",
     "output_type": "stream",
     "text": [
      "24\n",
      "23\n",
      "variable inside function\n"
     ]
    }
   ],
   "source": [
    "# scope check\n",
    "def scope_check(number_of_days):\n",
    "    my_var = \"variable inside function\"\n",
    "    print(calculation_to_hours) #globe\n",
    "    print(number_of_days) # input variable\n",
    "    print(my_var) #internal variable\n",
    "\n",
    "scope_check(23)"
   ]
  },
  {
   "cell_type": "markdown",
   "metadata": {},
   "source": [
    "### 4. User Input"
   ]
  },
  {
   "cell_type": "code",
   "execution_count": 47,
   "metadata": {},
   "outputs": [
    {
     "data": {
      "text/plain": [
       "'20'"
      ]
     },
     "execution_count": 47,
     "metadata": {},
     "output_type": "execute_result"
    }
   ],
   "source": [
    "input()"
   ]
  },
  {
   "cell_type": "code",
   "execution_count": 48,
   "metadata": {},
   "outputs": [
    {
     "data": {
      "text/plain": [
       "'20'"
      ]
     },
     "execution_count": 48,
     "metadata": {},
     "output_type": "execute_result"
    }
   ],
   "source": [
    "input(\"hey user, input the number of day and I will convert it to hours\")"
   ]
  },
  {
   "cell_type": "code",
   "execution_count": 51,
   "metadata": {},
   "outputs": [],
   "source": [
    "# Functions with return values\n",
    "def days_to_units(num_of_days): \n",
    "    return (f\"{num_of_days} days are {num_of_days * calculation_to_hours} {name_of_hours}\")"
   ]
  },
  {
   "cell_type": "code",
   "execution_count": 55,
   "metadata": {},
   "outputs": [
    {
     "name": "stdout",
     "output_type": "stream",
     "text": [
      "20\n",
      "20 days are 480 hours\n"
     ]
    }
   ],
   "source": [
    "num_of_days = int(input(\"hey user, input the number of day and I will convert it to hours\"))\n",
    "print(num_of_days)\n",
    "results = days_to_units(num_of_days)\n",
    "print(results)"
   ]
  }
 ],
 "metadata": {
  "kernelspec": {
   "display_name": "Python 3",
   "language": "python",
   "name": "python3"
  },
  "language_info": {
   "codemirror_mode": {
    "name": "ipython",
    "version": 3
   },
   "file_extension": ".py",
   "mimetype": "text/x-python",
   "name": "python",
   "nbconvert_exporter": "python",
   "pygments_lexer": "ipython3",
   "version": "3.7.4"
  },
  "orig_nbformat": 4
 },
 "nbformat": 4,
 "nbformat_minor": 2
}
