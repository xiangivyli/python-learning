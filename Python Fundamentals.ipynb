{
 "cells": [
  {
   "cell_type": "markdown",
   "metadata": {},
   "source": [
    "### 1. String Concatenation"
   ]
  },
  {
   "cell_type": "code",
   "execution_count": 2,
   "metadata": {},
   "outputs": [
    {
     "name": "stdout",
     "output_type": "stream",
     "text": [
      "20 days are 28800 minutes\n"
     ]
    }
   ],
   "source": [
    "print(\"20 days are \" + str(20 * 24 * 60) + \" minutes\")"
   ]
  },
  {
   "cell_type": "code",
   "execution_count": 3,
   "metadata": {},
   "outputs": [
    {
     "name": "stdout",
     "output_type": "stream",
     "text": [
      "20 days are 28800 minutes\n"
     ]
    }
   ],
   "source": [
    "# f-string uses the value of the expression {50}\n",
    "print(f\"20 days are {20 * 24 * 60} minutes\")"
   ]
  },
  {
   "cell_type": "markdown",
   "metadata": {},
   "source": [
    "### 2. Variables\n",
    "Python is dynamically typed, it means it does not require any pre-defined data type for any variable as it is interpreted at runtime by the machine itself."
   ]
  },
  {
   "cell_type": "code",
   "execution_count": 38,
   "metadata": {},
   "outputs": [
    {
     "name": "stdout",
     "output_type": "stream",
     "text": [
      "20 days are 1728000 seconds\n"
     ]
    }
   ],
   "source": [
    "# define seconds per day\n",
    "calculation_to_seconds = 24 * 60 * 60\n",
    "name_of_seconds = \"seconds\"\n",
    "# using the variables to calculate\n",
    "print(f\"20 days are {20 * calculation_to_seconds} {name_of_seconds}\")"
   ]
  },
  {
   "cell_type": "code",
   "execution_count": 39,
   "metadata": {},
   "outputs": [
    {
     "name": "stdout",
     "output_type": "stream",
     "text": [
      "20 days are 480 hours\n"
     ]
    }
   ],
   "source": [
    "# define hours per day which are global scope\n",
    "calculation_to_hours = 24\n",
    "name_of_hours = \"hours\"\n",
    "# using the variables to calculate\n",
    "print(f\"20 days are {20 * calculation_to_hours} {name_of_hours}\")"
   ]
  },
  {
   "cell_type": "markdown",
   "metadata": {},
   "source": [
    "### 3. Functions"
   ]
  },
  {
   "cell_type": "code",
   "execution_count": 40,
   "metadata": {},
   "outputs": [],
   "source": [
    "# create function\n",
    "def days_to_units_1():\n",
    "    print(f\"20 days are {20 * calculation_to_hours} {name_of_hours}\")\n",
    "    print(\"All good!\")"
   ]
  },
  {
   "cell_type": "code",
   "execution_count": 41,
   "metadata": {},
   "outputs": [
    {
     "name": "stdout",
     "output_type": "stream",
     "text": [
      "20 days are 480 hours\n",
      "All good!\n"
     ]
    }
   ],
   "source": [
    "# call the function\n",
    "days_to_units_1()"
   ]
  },
  {
   "cell_type": "code",
   "execution_count": 42,
   "metadata": {},
   "outputs": [],
   "source": [
    "# add parameters to the function\n",
    "def days_to_units_2(num_of_days):\n",
    "    print(f\"{num_of_days} days are {num_of_days * calculation_to_hours} {name_of_hours}\")\n",
    "    print(\"All good!\")"
   ]
  },
  {
   "cell_type": "code",
   "execution_count": 43,
   "metadata": {},
   "outputs": [
    {
     "name": "stdout",
     "output_type": "stream",
     "text": [
      "35 days are 840 hours\n",
      "All good!\n",
      "77 days are 1848 hours\n",
      "All good!\n",
      "84 days are 2016 hours\n",
      "All good!\n",
      "125 days are 3000 hours\n",
      "All good!\n"
     ]
    }
   ],
   "source": [
    "# call the function again with parameters\n",
    "days_to_units_2(35)\n",
    "days_to_units_2(77)\n",
    "days_to_units_2(84)\n",
    "days_to_units_2(125)"
   ]
  },
  {
   "cell_type": "code",
   "execution_count": 44,
   "metadata": {},
   "outputs": [],
   "source": [
    "# add two parameters which are local scope\n",
    "def days_to_units_3(num_of_days, custom_message): \n",
    "    print(f\"{num_of_days} days are {num_of_days * calculation_to_hours} {name_of_hours}\")\n",
    "    print(custom_message)"
   ]
  },
  {
   "cell_type": "code",
   "execution_count": 45,
   "metadata": {},
   "outputs": [
    {
     "name": "stdout",
     "output_type": "stream",
     "text": [
      "45 days are 1080 hours\n",
      "I love it\n"
     ]
    }
   ],
   "source": [
    "# call the function\n",
    "days_to_units_3(45, \"I love it\")"
   ]
  },
  {
   "cell_type": "code",
   "execution_count": 46,
   "metadata": {},
   "outputs": [
    {
     "name": "stdout",
     "output_type": "stream",
     "text": [
      "24\n",
      "23\n",
      "variable inside function\n"
     ]
    }
   ],
   "source": [
    "# scope check\n",
    "def scope_check(number_of_days):\n",
    "    my_var = \"variable inside function\"\n",
    "    print(calculation_to_hours) #globe\n",
    "    print(number_of_days) # input variable\n",
    "    print(my_var) #internal variable\n",
    "\n",
    "scope_check(23)"
   ]
  },
  {
   "cell_type": "markdown",
   "metadata": {},
   "source": [
    "### 4. User Input, Casting, Boolean"
   ]
  },
  {
   "cell_type": "code",
   "execution_count": 47,
   "metadata": {},
   "outputs": [
    {
     "data": {
      "text/plain": [
       "'20'"
      ]
     },
     "execution_count": 47,
     "metadata": {},
     "output_type": "execute_result"
    }
   ],
   "source": [
    "input()"
   ]
  },
  {
   "cell_type": "code",
   "execution_count": 48,
   "metadata": {},
   "outputs": [
    {
     "data": {
      "text/plain": [
       "'20'"
      ]
     },
     "execution_count": 48,
     "metadata": {},
     "output_type": "execute_result"
    }
   ],
   "source": [
    "input(\"hey user, input the number of day and I will convert it to hours\")"
   ]
  },
  {
   "cell_type": "code",
   "execution_count": 56,
   "metadata": {},
   "outputs": [],
   "source": [
    "# Functions with return values\n",
    "def days_to_units_4(num_of_days): \n",
    "    return (f\"{num_of_days} days are {num_of_days * calculation_to_hours} {name_of_hours}\")"
   ]
  },
  {
   "cell_type": "code",
   "execution_count": 57,
   "metadata": {},
   "outputs": [
    {
     "name": "stdout",
     "output_type": "stream",
     "text": [
      "20\n",
      "20 days are 480 hours\n"
     ]
    }
   ],
   "source": [
    "# input converts anything into string, using casting to int()\n",
    "num_of_days = int(input(\"hey user, input the number of day and I will convert it to hours\\n\"))\n",
    "print(num_of_days)\n",
    "results = days_to_units_4(num_of_days)\n",
    "print(results)"
   ]
  },
  {
   "cell_type": "code",
   "execution_count": 59,
   "metadata": {},
   "outputs": [],
   "source": [
    "# restrict the input using conditionals\n",
    "def days_to_units_5(num_of_days):\n",
    "    if num_of_days > 0:\n",
    "        return f\"{num_of_days} days are {num_of_days * calculation_to_hours} {name_of_hours}\"\n",
    "    else:\n",
    "        return \"you entered a negative value, so no conversion for you!\""
   ]
  },
  {
   "cell_type": "code",
   "execution_count": 63,
   "metadata": {},
   "outputs": [
    {
     "name": "stdout",
     "output_type": "stream",
     "text": [
      "-10\n",
      "you entered a negative value, so no conversion for you!\n"
     ]
    }
   ],
   "source": [
    "# test function_5\n",
    "num_of_days = int(input(\"hey user, input the number of day and I will convert it to hours\\n\"))\n",
    "print(num_of_days)\n",
    "results = days_to_units_5(num_of_days)\n",
    "print(results)"
   ]
  },
  {
   "cell_type": "code",
   "execution_count": 66,
   "metadata": {},
   "outputs": [],
   "source": [
    "# check boolean\n",
    "def days_to_units_6(num_of_days):\n",
    "    print(num_of_days > 0)\n",
    "    print(type(num_of_days > 0))\n",
    "    if num_of_days > 0:\n",
    "        return f\"{num_of_days} days are {num_of_days * calculation_to_hours} {name_of_hours}\"\n",
    "    else:\n",
    "        return \"you entered a negative value, so no conversion for you!\""
   ]
  },
  {
   "cell_type": "code",
   "execution_count": 67,
   "metadata": {},
   "outputs": [
    {
     "name": "stdout",
     "output_type": "stream",
     "text": [
      "-10\n",
      "False\n",
      "<class 'bool'>\n",
      "you entered a negative value, so no conversion for you!\n"
     ]
    }
   ],
   "source": [
    "# test function_6\n",
    "num_of_days = int(input(\"hey user, input the number of day and I will convert it to hours\\n\"))\n",
    "print(num_of_days)\n",
    "results = days_to_units_6(num_of_days)\n",
    "print(results)"
   ]
  },
  {
   "cell_type": "code",
   "execution_count": 68,
   "metadata": {},
   "outputs": [],
   "source": [
    "# multi conditionals\n",
    "def days_to_units_7(num_of_days):\n",
    "    if num_of_days > 0:\n",
    "        return f\"{num_of_days} days are {num_of_days * calculation_to_hours} {name_of_hours}\"\n",
    "    elif num_of_days == 0:\n",
    "        return \"you entered a 0, please enter a positive number\"\n",
    "    else:\n",
    "        return \"you entered a negative value, so no conversion for you!\"\n"
   ]
  },
  {
   "cell_type": "code",
   "execution_count": 71,
   "metadata": {},
   "outputs": [
    {
     "name": "stdout",
     "output_type": "stream",
     "text": [
      "-10\n",
      "False\n",
      "<class 'bool'>\n",
      "you entered a negative value, so no conversion for you!\n"
     ]
    }
   ],
   "source": [
    "# test function_7\n",
    "num_of_days = int(input(\"hey user, input the number of day and I will convert it to hours\\n\"))\n",
    "print(num_of_days)\n",
    "results = days_to_units_6(num_of_days)\n",
    "print(results)"
   ]
  },
  {
   "cell_type": "code",
   "execution_count": 74,
   "metadata": {},
   "outputs": [
    {
     "name": "stdout",
     "output_type": "stream",
     "text": [
      "your input is not a positive int number. Don't ruin my program!\n"
     ]
    }
   ],
   "source": [
    "# prevent text value and non-int\n",
    "user_input = input(\"hey user, input the number of day and I will convert it to hours\\n\")\n",
    "\n",
    "# isdigit filters positive int number\n",
    "if user_input.isdigit():\n",
    "    num_of_days = int(user_input)\n",
    "    results = days_to_units_6(num_of_days)\n",
    "    print(results)\n",
    "else:\n",
    "    print(\"your input is not a positive int number. Don't ruin my program!\")\n",
    "    \n"
   ]
  },
  {
   "cell_type": "markdown",
   "metadata": {},
   "source": [
    "## 5. Encapsulate a function\n"
   ]
  },
  {
   "cell_type": "code",
   "execution_count": 78,
   "metadata": {},
   "outputs": [
    {
     "name": "stdout",
     "output_type": "stream",
     "text": [
      "your input is not a positive int number. Don't ruin my program!\n"
     ]
    }
   ],
   "source": [
    "def days_to_units_8(num_of_days):\n",
    "    if num_of_days > 0:\n",
    "        return f\"{num_of_days} days are {num_of_days * calculation_to_hours} {name_of_hours}\"\n",
    "    elif num_of_days == 0:\n",
    "        return \"you entered a 0, please enter a positive number\"\n",
    "    \n",
    "def validate_and_execute():\n",
    "    if user_input.isdigit():\n",
    "       num_of_days = int(user_input)\n",
    "       results = days_to_units_8(num_of_days)\n",
    "       print(results)\n",
    "    else:\n",
    "       print(\"your input is not a positive int number. Don't ruin my program!\")\n",
    "\n",
    "user_input = input(\"hey user, input the number of day and I will convert it to hours\\n\")\n",
    "validate_and_execute()\n"
   ]
  },
  {
   "cell_type": "code",
   "execution_count": 83,
   "metadata": {},
   "outputs": [
    {
     "name": "stdout",
     "output_type": "stream",
     "text": [
      "20 days are 480 hours\n"
     ]
    }
   ],
   "source": [
    "# a clean version to put validation in one place\n",
    "calculation_to_hours = 24\n",
    "name_of_hours = \"hours\"\n",
    "user_input = input(\"hey user, input the number of day and I will convert it to hours\\n\")\n",
    "\n",
    "def validate_and_execute():\n",
    "    if user_input.isdigit():\n",
    "       num_of_days = int(user_input)\n",
    "       if num_of_days > 0:\n",
    "          results = days_to_units_9(num_of_days)\n",
    "          print(results)\n",
    "       elif num_of_days == 0:\n",
    "          print(\"you entered a 0, please enter a positive number\") \n",
    "    else:\n",
    "       print(\"your input is not a positive int number. Don't ruin my program!\")\n",
    "\n",
    "def days_to_units_9(num_of_days):\n",
    "   return f\"{num_of_days} days are {num_of_days * calculation_to_hours} {name_of_hours}\"\n",
    "\n",
    "def validate_and_execute():\n",
    "    if user_input.isdigit():\n",
    "       num_of_days = int(user_input)\n",
    "       if num_of_days > 0:\n",
    "          results = days_to_units_9(num_of_days)\n",
    "          print(results)\n",
    "       elif num_of_days == 0:\n",
    "          print(\"you entered a 0, please enter a positive number\") \n",
    "    else:\n",
    "       print(\"your input is not a positive int number. Don't ruin my program!\")\n",
    "\n",
    "validate_and_execute()"
   ]
  },
  {
   "cell_type": "markdown",
   "metadata": {},
   "source": [
    "## 6. Handling errors with try/except"
   ]
  },
  {
   "cell_type": "code",
   "execution_count": 93,
   "metadata": {},
   "outputs": [],
   "source": [
    "calculation_to_hours = 24\n",
    "name_of_hours = \"hours\"\n",
    "user_input = input(\"hey user, input the number of day and I will convert it to hours\\n\")\n",
    "\n",
    "\n",
    "def days_to_units_9(num_of_days):\n",
    "   return f\"{num_of_days} days are {num_of_days * calculation_to_hours} {name_of_hours}\"\n",
    "\n",
    "\n",
    "# the try block: lets you \"test\" a block of code for errors\n",
    "def validate_and_execute_1():\n",
    "    try:  \n",
    "       num_of_days = int(user_input)\n",
    "       if num_of_days > 0:\n",
    "          results = days_to_units_9(num_of_days)\n",
    "          print(results)\n",
    "       elif num_of_days == 0:\n",
    "          print(\"you entered a 0, please enter a positive number\") \n",
    "       else:\n",
    "          print(\"you input a negative number, it does not make sense!\")\n",
    "    \n",
    "    except ValueError:\n",
    "       print(\"your input is not a positive int number. Don't ruin my program!\")\n",
    "\n",
    "\n",
    "validate_and_execute_1()"
   ]
  },
  {
   "cell_type": "markdown",
   "metadata": {},
   "source": [
    "## 7. Object-Oriented Programming"
   ]
  },
  {
   "cell_type": "code",
   "execution_count": null,
   "metadata": {},
   "outputs": [],
   "source": [
    "#create a new data type named Student\n",
    "class Student:\n",
    "    def __init__(self, name, house):\n",
    "        # instance variable\n",
    "        self.name = name\n",
    "        self.house = house\n",
    "\n",
    "    def __str__(self):\n",
    "        # define the output is a string\n",
    "        return f\"{self.name} from {self.house}\"\n",
    "\n",
    "    @property\n",
    "    def house(self):\n",
    "        return self._house\n",
    "\n",
    "    @house.setter\n",
    "    def house(self, house):\n",
    "        if house not in [\"Bristol\"]:\n",
    "            raise ValueError(\"Invalid\")\n",
    "        # differentiate the instance variable house with function house\n",
    "        self._house = house\n",
    "\n",
    "def main():\n",
    "    student = get_student()\n",
    "    print(student)\n",
    "\n",
    "def get_student():\n",
    "    name = input(\"Name: \").strip()\n",
    "    house = input(\"House: \").strip()\n",
    "    #construct a object with passed values of name and house\n",
    "    return Student(name, house)\n",
    "\n",
    "if __name__ == \"__main__\":\n",
    "    main()\n"
   ]
  },
  {
   "cell_type": "markdown",
   "metadata": {},
   "source": [
    "### classmethod"
   ]
  },
  {
   "cell_type": "code",
   "execution_count": null,
   "metadata": {},
   "outputs": [],
   "source": [
    "#create a new data type named Student\n",
    "class Student:\n",
    "    def __init__(self, name, house):\n",
    "        # instance variable\n",
    "        self.name = name\n",
    "        self.house = house\n",
    "\n",
    "    def __str__(self):\n",
    "        # define the output is a string\n",
    "        return f\"{self.name} from {self.house}\"\n",
    "\n",
    "    @classmethod\n",
    "    def get(cls):\n",
    "        name = input(\"Name: \").strip()\n",
    "        house = input(\"House: \").strip()\n",
    "        return cls(name, house)\n",
    "\n",
    "def main():\n",
    "    student = Student.get()\n",
    "    print(student)\n",
    "\n",
    "if __name__ == \"__main__\":\n",
    "    main()"
   ]
  },
  {
   "cell_type": "markdown",
   "metadata": {},
   "source": [
    "### Inheritance"
   ]
  },
  {
   "cell_type": "code",
   "execution_count": null,
   "metadata": {},
   "outputs": [],
   "source": [
    "class Wizard:\n",
    "    def __init__(self, name):\n",
    "        if not name:\n",
    "            raise ValueError(\"Missing name\")\n",
    "        self.name = name\n",
    "\n",
    "    ...\n",
    "\n",
    "class Student(Wizard):\n",
    "    def __init__(self, name, house):\n",
    "        #inherit the name from the superclass\n",
    "        super().__init__(name)\n",
    "        self.house = house\n",
    "\n",
    "    ...\n",
    "\n",
    "class Professor(Wizard):\n",
    "    def __init__(self, name, subject):\n",
    "        #inherit the name from the superclass\n",
    "        super().__init__(name)\n",
    "        self.subject = subject\n",
    "\n",
    "wizard = Wizard(\"Albus\")\n",
    "student = Student(\"Harry\", \"Gryffindor\")\n",
    "professor = Professor(\"Severus\", \"Defense Against the Dark Arts\")"
   ]
  }
 ],
 "metadata": {
  "kernelspec": {
   "display_name": "Python 3",
   "language": "python",
   "name": "python3"
  },
  "language_info": {
   "codemirror_mode": {
    "name": "ipython",
    "version": 3
   },
   "file_extension": ".py",
   "mimetype": "text/x-python",
   "name": "python",
   "nbconvert_exporter": "python",
   "pygments_lexer": "ipython3",
   "version": "3.7.4"
  },
  "orig_nbformat": 4
 },
 "nbformat": 4,
 "nbformat_minor": 2
}
