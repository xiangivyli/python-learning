{
 "cells": [
  {
   "cell_type": "markdown",
   "metadata": {},
   "source": [
    "## Convert string to camel case"
   ]
  },
  {
   "cell_type": "markdown",
   "metadata": {},
   "source": [
    "Complete the method/function so that it converts dash/underscore delimited words into camel casing. The first word within the output should be capitalized only if the original word was capitalized (known as Upper Camel Case, also often referred to as Pascal case). The next words should be always capitalized.\n",
    "\n",
    "Examples\n",
    "\"the-stealth-warrior\" gets converted to \"theStealthWarrior\"\n",
    "\n",
    "\"The_Stealth_Warrior\" gets converted to \"TheStealthWarrior\"\n",
    "\n",
    "\"The_Stealth-Warrior\" gets converted to \"TheStealthWarrior\""
   ]
  },
  {
   "cell_type": "code",
   "execution_count": 5,
   "metadata": {},
   "outputs": [
    {
     "data": {
      "text/plain": [
       "'theStealthWarrior'"
      ]
     },
     "execution_count": 5,
     "metadata": {},
     "output_type": "execute_result"
    }
   ],
   "source": [
    "def to_camel_case(text):\n",
    "    import re\n",
    "    split_text = re.split('[_-]', text)\n",
    "    capitalized_list = [split_text[i].capitalize() if i != 0 \n",
    "                           else s \n",
    "                           for i, s in enumerate(split_text)]\n",
    "\n",
    "    \n",
    "    return \"\".join(capitalized_list)\n",
    "\n",
    "text=\"the-stealth-warrior\"\n",
    "to_camel_case(text)"
   ]
  },
  {
   "cell_type": "markdown",
   "metadata": {},
   "source": [
    "# I am going to record some clever codes here, also some tips "
   ]
  },
  {
   "cell_type": "markdown",
   "metadata": {},
   "source": [
    "16/02/2024"
   ]
  },
  {
   "cell_type": "code",
   "execution_count": null,
   "metadata": {},
   "outputs": [],
   "source": [
    "# copy a list\n",
    "new_list = list[:]\n",
    "\n",
    "# remove function returns None\n",
    "new_list.remove(min(new_list))\n",
    "\n",
    "# count the occurrences of elements in a list\n",
    "list.count(\"element\")\n",
    "\n",
    "# example\n",
    "fruits = ['apple', 'banana', 'cherry', 'cherry']\n",
    "\n",
    "x = fruits.count(\"cherry\")"
   ]
  }
 ],
 "metadata": {
  "kernelspec": {
   "display_name": "base",
   "language": "python",
   "name": "python3"
  },
  "language_info": {
   "codemirror_mode": {
    "name": "ipython",
    "version": 3
   },
   "file_extension": ".py",
   "mimetype": "text/x-python",
   "name": "python",
   "nbconvert_exporter": "python",
   "pygments_lexer": "ipython3",
   "version": "3.9.12"
  }
 },
 "nbformat": 4,
 "nbformat_minor": 2
}
