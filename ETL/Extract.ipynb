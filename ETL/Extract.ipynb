{
 "cells": [
  {
   "attachments": {},
   "cell_type": "markdown",
   "metadata": {},
   "source": [
    "# Extract\n",
    "\n",
    "ETL is the most frequent process for data engineers, DE needs to integrate data from various heterogeneous sources for data analysts and data scientist.\n",
    "\n",
    "This practice is under a context where DE needs to get sales data from a URL and then store it locally."
   ]
  },
  {
   "attachments": {},
   "cell_type": "markdown",
   "metadata": {},
   "source": [
    "### 1. requests library\n",
    "\n",
    "**GET** request/fetch data from a resource"
   ]
  },
  {
   "cell_type": "code",
   "execution_count": 17,
   "metadata": {},
   "outputs": [
    {
     "name": "stdout",
     "output_type": "stream",
     "text": [
      "200\n",
      "              Header                                              Value\n",
      "0               Date                      Sun, 30 Apr 2023 11:50:04 GMT\n",
      "1       Content-Type                           application/octet-stream\n",
      "2     Content-Length                                             249296\n",
      "3         Connection                                         keep-alive\n",
      "4         x-amz-id-2  EcqpYuhELCzFHdZw/qZoDw/Ju0QJ+ABowRlv6WshZQoZg/...\n",
      "5   x-amz-request-id                                   6KZWC3W4RVWAFY5S\n",
      "6      Last-Modified                      Sun, 30 May 2021 14:00:42 GMT\n",
      "7   x-amz-version-id                   yT6365UyrWqhSlRsEPyBehY7HKsnLPmH\n",
      "8               ETag                 \"5840e486b3afdf58267d80163cb5d0cf\"\n",
      "9    CF-Cache-Status                                               MISS\n",
      "10     Accept-Ranges                                              bytes\n",
      "11        Set-Cookie  __cf_bm=MT0AHzcAoycUupPIkmouiAaIkMm8zcSZYoOFxl...\n",
      "12              Vary                                    Accept-Encoding\n",
      "13            Server                                         cloudflare\n",
      "14            CF-RAY                               7bff90a48ff97744-LHR\n"
     ]
    }
   ],
   "source": [
    "# requests library\n",
    "import requests\n",
    "import pandas as pd\n",
    "\n",
    "# Get the zip file\n",
    "path = 'https://assets.datacamp.com/production/repositories/5899/datasets/19d6cf619d6a771314f0eb489262a31f89c424c2/ppr-all.zip'\n",
    "response = requests.get(path)\n",
    "\n",
    "# Print the status code, 200 means ok\n",
    "print(response.status_code)\n",
    "\n",
    "# Print the headers (metadata)\n",
    "print(pd.DataFrame(response.headers.items(), columns=['Header','Value']))\n",
    "\n"
   ]
  },
  {
   "attachments": {},
   "cell_type": "markdown",
   "metadata": {},
   "source": [
    "### 2. os model and f-strings to build a local path\n",
    "\n",
    "f-strings is a fancy way to format strings, it combines expressions inside string literals."
   ]
  },
  {
   "cell_type": "code",
   "execution_count": 18,
   "metadata": {},
   "outputs": [],
   "source": [
    "# os library\n",
    "import os\n",
    "\n",
    "# Set routes\n",
    "root_dir = 'D:/Learn_DS/Git/python-learning/ETL'\n",
    "\n",
    "# put zip files in the source, put unzipped files in the raw\n",
    "source_dir = 'data/2023April/source'\n",
    "raw_dir = 'data/2023April/raw'\n",
    "\n",
    "# file folder holds unzipped files\n",
    "file_name = 'downloaded_at=2023-04-30.zip'\n",
    "file_folder = 'download_at=2023-04-30'\n",
    "\n",
    "# Define a function for creation\n",
    "def create_folder_if_not_exists(path):\n",
    "     os.makedirs(os.path.dirname(path), exist_ok=True)\n",
    "\n",
    "# build path using f-strings\n",
    "source_path = f\"{root_dir}/{source_dir}/{file_name}\"\n",
    "raw_path = f\"{root_dir}/{raw_dir}/{file_folder}\"\n"
   ]
  },
  {
   "attachments": {},
   "cell_type": "markdown",
   "metadata": {},
   "source": [
    "### 3. save zipped file in the source path"
   ]
  },
  {
   "cell_type": "code",
   "execution_count": 19,
   "metadata": {},
   "outputs": [],
   "source": [
    "# Save the file locally, with can close the file after writing it, mode wb for zip file\n",
    "create_folder_if_not_exists(source_path)\n",
    "with open(source_path, \"wb\") as source_file:\n",
    "    source_file.write(response.content)"
   ]
  },
  {
   "attachments": {},
   "cell_type": "markdown",
   "metadata": {},
   "source": [
    "### 4. unzip the Zip file then put them in the raw path"
   ]
  },
  {
   "cell_type": "code",
   "execution_count": 22,
   "metadata": {},
   "outputs": [
    {
     "name": "stdout",
     "output_type": "stream",
     "text": [
      "['ppr-all.csv']\n",
      "D:\\Learn_DS\\Git\\python-learning\\ETL\\data\\2023April\\raw\\download_at=2023-04-30\\ppr-all.csv\n"
     ]
    }
   ],
   "source": [
    "# Unzipped the ZIP file\n",
    "from zipfile import ZipFile\n",
    "\n",
    "# Check files\n",
    "create_folder_if_not_exists(raw_path)\n",
    "with ZipFile(source_path, mode=\"r\") as f:\n",
    "  \t# Get the list of files and print it\n",
    "    file_names = f.namelist()\n",
    "    print(file_names)\n",
    "    # Extract the csv file\n",
    "    csv_file_path = f.extract(file_names[0], path=raw_path)\n",
    "    print(csv_file_path)\n",
    "\n"
   ]
  },
  {
   "attachments": {},
   "cell_type": "markdown",
   "metadata": {},
   "source": [
    "### 5. read the CSV file"
   ]
  },
  {
   "cell_type": "code",
   "execution_count": 14,
   "metadata": {},
   "outputs": [
    {
     "name": "stdout",
     "output_type": "stream",
     "text": [
      "{'Address': '16 BURLEIGH COURT, BURLINGTON ROAD, DUBLIN 4',\n",
      " 'County': 'Dublin',\n",
      " 'Date of Sale (dd/mm/yyyy)': '03/01/2021',\n",
      " 'Description of Property': 'Second-Hand Dwelling house /Apartment',\n",
      " 'Postal Code': 'Dublin 4',\n",
      " 'Price (€)': '€450,000.00'}\n"
     ]
    }
   ],
   "source": [
    "# csv model\n",
    "import csv\n",
    "from pprint import pprint\n",
    "\n",
    "# open function\n",
    "with open(csv_file_path, mode=\"r\", encoding=\"windows-1252\") as csv_file:\n",
    "    reader= csv.DictReader(csv_file)\n",
    "    # get the first row\n",
    "    row=next(reader)\n",
    "    pprint(row)"
   ]
  },
  {
   "cell_type": "code",
   "execution_count": 15,
   "metadata": {},
   "outputs": [
    {
     "name": "stdout",
     "output_type": "stream",
     "text": [
      "      Date of Sale (dd/mm/yyyy)                                   Address  \\\n",
      "5011                 12/02/2021      4 MERRY MEETING, RATHNEW, CO.WICKLOW   \n",
      "2659                 28/01/2021     25 TEMPLEOGUE RD, TERENURE, DUBLIN 6W   \n",
      "11939                08/04/2021          24 EMERALD SQ, CORK ST, DUBLIN 8   \n",
      "6198                 19/02/2021  TOWNAMULLOGUE, COURTNACUDDY, ENNISCORTHY   \n",
      "5502                 16/02/2021  7 CARMANHALL COURT, SANDYFORD, DUBLIN 18   \n",
      "\n",
      "      Postal Code   County    Price (€)                Description of Property  \n",
      "5011          NaN  Wicklow  €250,000.00  Second-Hand Dwelling house /Apartment  \n",
      "2659          NaN   Dublin  €695,000.00  Second-Hand Dwelling house /Apartment  \n",
      "11939    Dublin 8   Dublin  €277,000.00  Second-Hand Dwelling house /Apartment  \n",
      "6198          NaN  Wexford  €122,000.00  Second-Hand Dwelling house /Apartment  \n",
      "5502    Dublin 18   Dublin  €310,000.00  Second-Hand Dwelling house /Apartment  \n"
     ]
    }
   ],
   "source": [
    "# Read the CSV file into a pandas DataFrame\n",
    "df = pd.read_csv(csv_file_path, encoding=\"windows-1252\")\n",
    "\n",
    "# Print the first five rows of the DataFrame\n",
    "print(df.sample(5))"
   ]
  },
  {
   "cell_type": "code",
   "execution_count": 16,
   "metadata": {},
   "outputs": [
    {
     "name": "stdout",
     "output_type": "stream",
     "text": [
      "11999 6\n"
     ]
    }
   ],
   "source": [
    "# The size of CSV file\n",
    "print(df.shape[0], df.shape[1])"
   ]
  }
 ],
 "metadata": {
  "kernelspec": {
   "display_name": "base",
   "language": "python",
   "name": "python3"
  },
  "language_info": {
   "codemirror_mode": {
    "name": "ipython",
    "version": 3
   },
   "file_extension": ".py",
   "mimetype": "text/x-python",
   "name": "python",
   "nbconvert_exporter": "python",
   "pygments_lexer": "ipython3",
   "version": "3.9.12"
  },
  "orig_nbformat": 4
 },
 "nbformat": 4,
 "nbformat_minor": 2
}
