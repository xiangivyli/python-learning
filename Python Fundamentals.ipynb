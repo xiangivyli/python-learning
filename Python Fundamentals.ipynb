{
 "cells": [
  {
   "cell_type": "markdown",
   "metadata": {},
   "source": [
    "### 1. String Concatenation"
   ]
  },
  {
   "cell_type": "code",
   "execution_count": 2,
   "metadata": {},
   "outputs": [
    {
     "name": "stdout",
     "output_type": "stream",
     "text": [
      "20 days are 28800 minutes\n"
     ]
    }
   ],
   "source": [
    "print(\"20 days are \" + str(20 * 24 * 60) + \" minutes\")"
   ]
  },
  {
   "cell_type": "code",
   "execution_count": 3,
   "metadata": {},
   "outputs": [
    {
     "name": "stdout",
     "output_type": "stream",
     "text": [
      "20 days are 28800 minutes\n"
     ]
    }
   ],
   "source": [
    "# f-string uses the value of the expression {50}\n",
    "print(f\"20 days are {20 * 24 * 60} minutes\")"
   ]
  },
  {
   "cell_type": "markdown",
   "metadata": {},
   "source": [
    "### 2. Variables\n",
    "Python is dynamically typed, it means it does not require any pre-defined data type for any variable as it is interpreted at runtime by the machine itself."
   ]
  },
  {
   "cell_type": "code",
   "execution_count": 4,
   "metadata": {},
   "outputs": [
    {
     "name": "stdout",
     "output_type": "stream",
     "text": [
      "20 days are 1728000 seconds\n"
     ]
    }
   ],
   "source": [
    "# define seconds per day\n",
    "calculation_to_unit = 24 * 60 * 60\n",
    "name_of_unit = \"seconds\"\n",
    "# using the variables to calculate\n",
    "print(f\"20 days are {20 * calculation_to_unit} {name_of_unit}\")"
   ]
  },
  {
   "cell_type": "code",
   "execution_count": 5,
   "metadata": {},
   "outputs": [
    {
     "name": "stdout",
     "output_type": "stream",
     "text": [
      "20 days are 480 hours\n"
     ]
    }
   ],
   "source": [
    "# define hours per day which are global scope\n",
    "calculation_to_units = 24\n",
    "name_of_unit = \"hours\"\n",
    "# using the variables to calculate\n",
    "print(f\"20 days are {20 * calculation_to_units} {name_of_unit}\")"
   ]
  },
  {
   "cell_type": "markdown",
   "metadata": {},
   "source": [
    "### 3. Functions"
   ]
  },
  {
   "cell_type": "code",
   "execution_count": 6,
   "metadata": {},
   "outputs": [],
   "source": [
    "# create function\n",
    "def days_to_units():\n",
    "    print(f\"20 days are {20 * calculation_to_units} {name_of_unit}\")\n",
    "    print(\"All good!\")"
   ]
  },
  {
   "cell_type": "code",
   "execution_count": 7,
   "metadata": {},
   "outputs": [
    {
     "name": "stdout",
     "output_type": "stream",
     "text": [
      "20 days are 480 hours\n",
      "All good!\n"
     ]
    }
   ],
   "source": [
    "# call the function\n",
    "days_to_units()"
   ]
  },
  {
   "cell_type": "code",
   "execution_count": 8,
   "metadata": {},
   "outputs": [],
   "source": [
    "# add parameters to the function\n",
    "def days_to_units(num_of_days):\n",
    "    print(f\"{num_of_days} days are {num_of_days * calculation_to_units} {name_of_unit}\")\n",
    "    print(\"All good!\")"
   ]
  },
  {
   "cell_type": "code",
   "execution_count": 9,
   "metadata": {},
   "outputs": [
    {
     "name": "stdout",
     "output_type": "stream",
     "text": [
      "35 days are 840 hours\n",
      "All good!\n",
      "77 days are 1848 hours\n",
      "All good!\n",
      "84 days are 2016 hours\n",
      "All good!\n",
      "125 days are 3000 hours\n",
      "All good!\n"
     ]
    }
   ],
   "source": [
    "# call the function again with parameters\n",
    "days_to_units(35)\n",
    "days_to_units(77)\n",
    "days_to_units(84)\n",
    "days_to_units(125)"
   ]
  },
  {
   "cell_type": "code",
   "execution_count": 10,
   "metadata": {},
   "outputs": [],
   "source": [
    "# add two parameters which are local scope\n",
    "def days_to_units(num_of_days, custom_message): \n",
    "    print(f\"{num_of_days} days are {num_of_days * calculation_to_units} {name_of_unit}\")\n",
    "    print(custom_message)"
   ]
  },
  {
   "cell_type": "code",
   "execution_count": 11,
   "metadata": {},
   "outputs": [
    {
     "name": "stdout",
     "output_type": "stream",
     "text": [
      "45 days are 1080 hours\n",
      "I love it\n"
     ]
    }
   ],
   "source": [
    "# call the function\n",
    "days_to_units(45, \"I love it\")"
   ]
  },
  {
   "cell_type": "code",
   "execution_count": 14,
   "metadata": {},
   "outputs": [
    {
     "name": "stdout",
     "output_type": "stream",
     "text": [
      "86400\n",
      "23\n",
      "variable inside function\n"
     ]
    }
   ],
   "source": [
    "# scope check\n",
    "def scope_check(number_of_days):\n",
    "    my_var = \"variable inside function\"\n",
    "    print(calculation_to_unit) #globe\n",
    "    print(number_of_days) # input variable\n",
    "    print(my_var) #internal variable\n",
    "\n",
    "scope_check(23)"
   ]
  },
  {
   "cell_type": "markdown",
   "metadata": {},
   "source": [
    "### 4. User Input"
   ]
  },
  {
   "cell_type": "code",
   "execution_count": 16,
   "metadata": {},
   "outputs": [
    {
     "data": {
      "text/plain": [
       "'I an the best'"
      ]
     },
     "execution_count": 16,
     "metadata": {},
     "output_type": "execute_result"
    }
   ],
   "source": [
    "input()"
   ]
  },
  {
   "cell_type": "code",
   "execution_count": 17,
   "metadata": {},
   "outputs": [
    {
     "data": {
      "text/plain": [
       "'20'"
      ]
     },
     "execution_count": 17,
     "metadata": {},
     "output_type": "execute_result"
    }
   ],
   "source": [
    "input(\"hey user, input the number of day and I will convert it to hours\")"
   ]
  }
 ],
 "metadata": {
  "kernelspec": {
   "display_name": "Python 3",
   "language": "python",
   "name": "python3"
  },
  "language_info": {
   "codemirror_mode": {
    "name": "ipython",
    "version": 3
   },
   "file_extension": ".py",
   "mimetype": "text/x-python",
   "name": "python",
   "nbconvert_exporter": "python",
   "pygments_lexer": "ipython3",
   "version": "3.7.4"
  },
  "orig_nbformat": 4
 },
 "nbformat": 4,
 "nbformat_minor": 2
}
