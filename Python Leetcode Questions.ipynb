{
 "cells": [
  {
   "cell_type": "code",
   "execution_count": 2,
   "metadata": {},
   "outputs": [],
   "source": [
    "from typing import List"
   ]
  },
  {
   "cell_type": "markdown",
   "metadata": {},
   "source": [
    "443. String Compression\n",
    "\n",
    "Given an array of characters chars, compress it using the following algorithm:\n",
    "\n",
    "Begin with an empty string s. For each group of consecutive repeating characters in chars:\n",
    "\n",
    "If the group's length is 1, append the character to s.\n",
    "Otherwise, append the character followed by the group's length.\n",
    "The compressed string s should not be returned separately, but instead, be stored in the input character array chars. Note that group lengths that are 10 or longer will be split into multiple characters in chars.\n",
    "\n",
    "After you are done modifying the input array, return the new length of the array.\n",
    "\n",
    "You must write an algorithm that uses only constant extra space."
   ]
  },
  {
   "cell_type": "code",
   "execution_count": 5,
   "metadata": {},
   "outputs": [],
   "source": [
    "\n",
    "\n",
    "class Solution:\n",
    "    def compress(self, chars: List[str]) -> int:\n",
    "        # set two pointers to help write the new elements and count of duplicates\n",
    "        write = 0\n",
    "        count = 1\n",
    "        # change the chars based on the character\n",
    "        for i in range(1, len(chars)+1):\n",
    "            # replace the first several characters\n",
    "            if i < len(chars) and chars[i] == chars[i-1]:\n",
    "                count += 1\n",
    "            # when the group starts to change the character\n",
    "            # pass the i-1 elements to the new one\n",
    "            else: \n",
    "                chars[write] = chars[i-1]\n",
    "                write += 1\n",
    "                if count > 1:\n",
    "                    for digit in str(count):\n",
    "                        chars[write] = digit\n",
    "                        write += 1\n",
    "                        count = 1\n",
    "                 \n",
    "        return chars\n",
    "\n",
    "        "
   ]
  },
  {
   "cell_type": "code",
   "execution_count": 6,
   "metadata": {},
   "outputs": [],
   "source": [
    "chars = [\"a\",\"a\",\"a\",\"b\",\"b\",\"a\",\"a\"]"
   ]
  },
  {
   "cell_type": "code",
   "execution_count": 9,
   "metadata": {},
   "outputs": [
    {
     "name": "stdout",
     "output_type": "stream",
     "text": [
      "['a', '3', 'b', '2', 'a', '2', 'a']\n"
     ]
    }
   ],
   "source": [
    "solution = Solution()\n",
    "result = solution.compress(chars)\n",
    "print(result)\n",
    "\n",
    "\n",
    "\n"
   ]
  },
  {
   "cell_type": "markdown",
   "metadata": {},
   "source": [
    "283. Move Zones\n",
    "\n",
    "Given an integer array nums, move all 0's to the end of it while maintaining the relative order of the non-zero elements.\n",
    "\n",
    "Note that you must do this in-place without making a copy of the array.\n",
    "\n",
    "Approach: read the list from the left to right, exchange the characters if 0"
   ]
  },
  {
   "cell_type": "code",
   "execution_count": 10,
   "metadata": {},
   "outputs": [],
   "source": [
    "class Solution:\n",
    "    def moveZeroes(self, nums: List[int]) -> None:\n",
    "        \"\"\"\n",
    "        Do not return anything, modify nums in-place instead.\n",
    "        \"\"\"\n",
    "        # locate the non-0 character with pointer\n",
    "        write = 0\n",
    "        # find the 0 and move it to the right\n",
    "        for read in range(len(nums)):\n",
    "            if nums[read] != 0:\n",
    "                nums[read], nums[write] = nums[write], nums[read]\n",
    "                write += 1\n",
    "        return nums\n",
    "\n",
    "\n"
   ]
  },
  {
   "cell_type": "code",
   "execution_count": 11,
   "metadata": {},
   "outputs": [],
   "source": [
    "nums = [0,1,0,3,12]"
   ]
  },
  {
   "cell_type": "code",
   "execution_count": 12,
   "metadata": {},
   "outputs": [
    {
     "name": "stdout",
     "output_type": "stream",
     "text": [
      "[1, 3, 12, 0, 0]\n"
     ]
    }
   ],
   "source": [
    "solution = Solution()\n",
    "result = solution.moveZeroes(nums)\n",
    "print(result)"
   ]
  },
  {
   "cell_type": "markdown",
   "metadata": {},
   "source": [
    "392. Is Subsequence\n",
    "\n",
    "Given two strings s and t, return true if s is a subsequence of t, or false otherwise.\n",
    "\n",
    "A subsequence of a string is a new string that is formed from the original string by deleting some (can be none) of the characters without disturbing the relative positions of the remaining characters. (i.e., \"ace\" is a subsequence of \"abcde\" while \"aec\" is not)."
   ]
  },
  {
   "cell_type": "code",
   "execution_count": 4,
   "metadata": {},
   "outputs": [],
   "source": [
    "class Solution:\n",
    "    def isSubsequence(self, s: str, t: str) -> bool:\n",
    "        # when s is empty\n",
    "        if len(s) == 0:\n",
    "            return True\n",
    "        \n",
    "        # create pointer for s \n",
    "        sub = 0\n",
    "\n",
    "\n",
    "        # iterate the character in the longer sequence\n",
    "        for char in t:\n",
    "            # isolate the character of s to match the character of t\n",
    "            if s[sub] == char: \n",
    "                sub += 1\n",
    "                if sub == len(s):\n",
    "                    return True\n",
    "        \n",
    "        return False\n",
    "    \n",
    "\n"
   ]
  },
  {
   "cell_type": "code",
   "execution_count": 5,
   "metadata": {},
   "outputs": [],
   "source": [
    "s = \"abc\"\n",
    "t = \"ahbgdc\""
   ]
  },
  {
   "cell_type": "code",
   "execution_count": 6,
   "metadata": {},
   "outputs": [
    {
     "name": "stdout",
     "output_type": "stream",
     "text": [
      "True\n"
     ]
    }
   ],
   "source": [
    "solution = Solution()\n",
    "result = solution.isSubsequence(s, t)\n",
    "print(result)"
   ]
  },
  {
   "cell_type": "markdown",
   "metadata": {},
   "source": [
    "11. Container with most water\n",
    "\n",
    "You are given an integer array height of length n. There are n vertical lines drawn such that the two endpoints of the ith line are (i, 0) and (i, height[i]).\n",
    "\n",
    "Find two lines that together with the x-axis form a container, such that the container contains the most water.\n",
    "\n",
    "Return the maximum amount of water a container can store.\n",
    "\n",
    "Notice that you may not slant the container."
   ]
  },
  {
   "cell_type": "code",
   "execution_count": 19,
   "metadata": {},
   "outputs": [],
   "source": [
    "class Solution:\n",
    "    def maxArea(self, height: List[int]) -> int:\n",
    "        # inital the left and right pointers for the container\n",
    "        left = 0\n",
    "        right = len(height) - 1\n",
    "        max_area = 0\n",
    "\n",
    "\n",
    "        # calcualte the area and move the pointer to find a larger one\n",
    "        while left < right:\n",
    "            length = right - left\n",
    "            current_height = min(height[left], height[right])\n",
    "            max_area = max(max_area, length * current_height)\n",
    "            \n",
    "            # move the pointer which has a shorter height\n",
    "            if height[left] < height[right]:\n",
    "                left += 1\n",
    "            else: right -= 1 \n",
    "   \n",
    "        return max_area"
   ]
  },
  {
   "cell_type": "code",
   "execution_count": 20,
   "metadata": {},
   "outputs": [],
   "source": [
    "height = [1,8,6,2,5,4,8,3,7]"
   ]
  },
  {
   "cell_type": "code",
   "execution_count": 21,
   "metadata": {},
   "outputs": [
    {
     "name": "stdout",
     "output_type": "stream",
     "text": [
      "49\n"
     ]
    }
   ],
   "source": [
    "solution = Solution()\n",
    "result = solution.maxArea(height)\n",
    "print(result)"
   ]
  },
  {
   "cell_type": "markdown",
   "metadata": {},
   "source": [
    "169. Maximum Number of K-Sum Pairs\n",
    "\n",
    "You are given an integer array nums and an integer k.\n",
    "\n",
    "In one operation, you can pick two numbers from the array whose sum equals k and remove them from the array.\n",
    "\n",
    "Return the maximum number of operations you can perform on the array."
   ]
  },
  {
   "cell_type": "code",
   "execution_count": 44,
   "metadata": {},
   "outputs": [],
   "source": [
    "class Solution:\n",
    "    def maxOperations(self, nums: List[int], k: int) -> int:\n",
    "        count = 0\n",
    "        nums.sort()  # Sort the list to use two-pointer technique effectively\n",
    "        left = 0\n",
    "        right = len(nums) - 1\n",
    "\n",
    "        while left < right:\n",
    "            current_sum = nums[left] + nums[right]\n",
    "            if current_sum == k:\n",
    "                count += 1\n",
    "                left += 1\n",
    "                right -= 1\n",
    "            elif current_sum < k:\n",
    "                left += 1\n",
    "            else:\n",
    "                right -= 1\n",
    "\n",
    "        return count\n"
   ]
  },
  {
   "cell_type": "code",
   "execution_count": 45,
   "metadata": {},
   "outputs": [],
   "source": [
    "nums = [3,1,3,3,4,3]\n",
    "k = 6                "
   ]
  },
  {
   "cell_type": "code",
   "execution_count": 46,
   "metadata": {},
   "outputs": [
    {
     "name": "stdout",
     "output_type": "stream",
     "text": [
      "2\n"
     ]
    }
   ],
   "source": [
    "solution = Solution()\n",
    "result = solution.maxOperations(nums, k)\n",
    "print(result)"
   ]
  },
  {
   "cell_type": "markdown",
   "metadata": {},
   "source": [
    "2225. Find Players With Zero or One Losses\n",
    "\n",
    "You are given an integer array `matches` where `matches[i] = [winner, loser]` indicates that the player `winner` defeated player `loser` in a match.\n",
    "\n",
    "Return a list `answer` of size `2` where:\n",
    "- `answer[0]` is a list of all players that have **not** lost any matches\n",
    "- `answer[1]` is a list of all players that have lost exactly **one** match.\n",
    "\n",
    "The values in the two lists should be returned in **increasing** order."
   ]
  },
  {
   "cell_type": "code",
   "execution_count": 52,
   "metadata": {},
   "outputs": [],
   "source": [
    "from collections import Counter\n",
    "\n",
    "class Solution:\n",
    "    def findWinners(self, matches: List[List[int]]) -> List[List[int]]:\n",
    "        # collect winner set and loser dictionary\n",
    "        winner_set = set(match[0] for match in matches)\n",
    "        loser_dic = Counter(match[1] for match in matches)\n",
    "\n",
    "        # compare winner list and loser list to get the desired lists\n",
    "        # filter loser whose values are 1\n",
    "        answer1 = winner_set - set(loser for loser in loser_dic.keys())\n",
    "        answer2 = [loser for loser, times in loser_dic.items() if times == 1]\n",
    "    \n",
    "        return [sorted(list(answer1)), sorted(answer2)]\n",
    "    "
   ]
  },
  {
   "cell_type": "code",
   "execution_count": 53,
   "metadata": {},
   "outputs": [],
   "source": [
    "matches = [[1,3],[2,3],[3,6],[5,6],[5,7],[4,5],[4,8],[4,9],[10,4],[10,9]]"
   ]
  },
  {
   "cell_type": "code",
   "execution_count": 54,
   "metadata": {},
   "outputs": [
    {
     "name": "stdout",
     "output_type": "stream",
     "text": [
      "[[1, 2, 10], [4, 5, 7, 8]]\n"
     ]
    }
   ],
   "source": [
    "solution = Solution()\n",
    "result = solution.findWinners(matches)\n",
    "print(result)"
   ]
  }
 ],
 "metadata": {
  "kernelspec": {
   "display_name": "Python 3",
   "language": "python",
   "name": "python3"
  },
  "language_info": {
   "codemirror_mode": {
    "name": "ipython",
    "version": 3
   },
   "file_extension": ".py",
   "mimetype": "text/x-python",
   "name": "python",
   "nbconvert_exporter": "python",
   "pygments_lexer": "ipython3",
   "version": "3.9.12"
  }
 },
 "nbformat": 4,
 "nbformat_minor": 2
}
