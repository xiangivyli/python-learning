{
 "cells": [
  {
   "cell_type": "markdown",
   "metadata": {},
   "source": [
    "### 1. String Concatenation"
   ]
  },
  {
   "cell_type": "code",
   "execution_count": 2,
   "metadata": {},
   "outputs": [
    {
     "name": "stdout",
     "output_type": "stream",
     "text": [
      "20 days are 28800 minutes\n"
     ]
    }
   ],
   "source": [
    "print(\"20 days are \" + str(20 * 24 * 60) + \" minutes\")"
   ]
  },
  {
   "cell_type": "code",
   "execution_count": 3,
   "metadata": {},
   "outputs": [
    {
     "name": "stdout",
     "output_type": "stream",
     "text": [
      "20 days are 28800 minutes\n"
     ]
    }
   ],
   "source": [
    "# f-string uses the value of the expression {50}\n",
    "print(f\"20 days are {20 * 24 * 60} minutes\")"
   ]
  },
  {
   "cell_type": "markdown",
   "metadata": {},
   "source": [
    "### 2. Variables\n",
    "Python is dynamically typed, it means it does not require any pre-defined data type for any variable as it is interpreted at runtime by the machine itself."
   ]
  },
  {
   "cell_type": "code",
   "execution_count": 38,
   "metadata": {},
   "outputs": [
    {
     "name": "stdout",
     "output_type": "stream",
     "text": [
      "20 days are 1728000 seconds\n"
     ]
    }
   ],
   "source": [
    "# define seconds per day\n",
    "calculation_to_seconds = 24 * 60 * 60\n",
    "name_of_seconds = \"seconds\"\n",
    "# using the variables to calculate\n",
    "print(f\"20 days are {20 * calculation_to_seconds} {name_of_seconds}\")"
   ]
  },
  {
   "cell_type": "code",
   "execution_count": 39,
   "metadata": {},
   "outputs": [
    {
     "name": "stdout",
     "output_type": "stream",
     "text": [
      "20 days are 480 hours\n"
     ]
    }
   ],
   "source": [
    "# define hours per day which are global scope\n",
    "calculation_to_hours = 24\n",
    "name_of_hours = \"hours\"\n",
    "# using the variables to calculate\n",
    "print(f\"20 days are {20 * calculation_to_hours} {name_of_hours}\")"
   ]
  },
  {
   "cell_type": "markdown",
   "metadata": {},
   "source": [
    "### 3. Functions"
   ]
  },
  {
   "cell_type": "code",
   "execution_count": 40,
   "metadata": {},
   "outputs": [],
   "source": [
    "# create function\n",
    "def days_to_units_1():\n",
    "    print(f\"20 days are {20 * calculation_to_hours} {name_of_hours}\")\n",
    "    print(\"All good!\")"
   ]
  },
  {
   "cell_type": "code",
   "execution_count": 41,
   "metadata": {},
   "outputs": [
    {
     "name": "stdout",
     "output_type": "stream",
     "text": [
      "20 days are 480 hours\n",
      "All good!\n"
     ]
    }
   ],
   "source": [
    "# call the function\n",
    "days_to_units_1()"
   ]
  },
  {
   "cell_type": "code",
   "execution_count": 42,
   "metadata": {},
   "outputs": [],
   "source": [
    "# add parameters to the function\n",
    "def days_to_units_2(num_of_days):\n",
    "    print(f\"{num_of_days} days are {num_of_days * calculation_to_hours} {name_of_hours}\")\n",
    "    print(\"All good!\")"
   ]
  },
  {
   "cell_type": "code",
   "execution_count": 43,
   "metadata": {},
   "outputs": [
    {
     "name": "stdout",
     "output_type": "stream",
     "text": [
      "35 days are 840 hours\n",
      "All good!\n",
      "77 days are 1848 hours\n",
      "All good!\n",
      "84 days are 2016 hours\n",
      "All good!\n",
      "125 days are 3000 hours\n",
      "All good!\n"
     ]
    }
   ],
   "source": [
    "# call the function again with parameters\n",
    "days_to_units_2(35)\n",
    "days_to_units_2(77)\n",
    "days_to_units_2(84)\n",
    "days_to_units_2(125)"
   ]
  },
  {
   "cell_type": "code",
   "execution_count": 44,
   "metadata": {},
   "outputs": [],
   "source": [
    "# add two parameters which are local scope\n",
    "def days_to_units_3(num_of_days, custom_message): \n",
    "    print(f\"{num_of_days} days are {num_of_days * calculation_to_hours} {name_of_hours}\")\n",
    "    print(custom_message)"
   ]
  },
  {
   "cell_type": "code",
   "execution_count": 45,
   "metadata": {},
   "outputs": [
    {
     "name": "stdout",
     "output_type": "stream",
     "text": [
      "45 days are 1080 hours\n",
      "I love it\n"
     ]
    }
   ],
   "source": [
    "# call the function\n",
    "days_to_units_3(45, \"I love it\")"
   ]
  },
  {
   "cell_type": "code",
   "execution_count": 46,
   "metadata": {},
   "outputs": [
    {
     "name": "stdout",
     "output_type": "stream",
     "text": [
      "24\n",
      "23\n",
      "variable inside function\n"
     ]
    }
   ],
   "source": [
    "# scope check\n",
    "def scope_check(number_of_days):\n",
    "    my_var = \"variable inside function\"\n",
    "    print(calculation_to_hours) #globe\n",
    "    print(number_of_days) # input variable\n",
    "    print(my_var) #internal variable\n",
    "\n",
    "scope_check(23)"
   ]
  },
  {
   "cell_type": "markdown",
   "metadata": {},
   "source": [
    "### 4. User Input, Casting, Boolean"
   ]
  },
  {
   "cell_type": "code",
   "execution_count": 47,
   "metadata": {},
   "outputs": [
    {
     "data": {
      "text/plain": [
       "'20'"
      ]
     },
     "execution_count": 47,
     "metadata": {},
     "output_type": "execute_result"
    }
   ],
   "source": [
    "input()"
   ]
  },
  {
   "cell_type": "code",
   "execution_count": 48,
   "metadata": {},
   "outputs": [
    {
     "data": {
      "text/plain": [
       "'20'"
      ]
     },
     "execution_count": 48,
     "metadata": {},
     "output_type": "execute_result"
    }
   ],
   "source": [
    "input(\"hey user, input the number of day and I will convert it to hours\")"
   ]
  },
  {
   "cell_type": "code",
   "execution_count": 56,
   "metadata": {},
   "outputs": [],
   "source": [
    "# Functions with return values\n",
    "def days_to_units_4(num_of_days): \n",
    "    return (f\"{num_of_days} days are {num_of_days * calculation_to_hours} {name_of_hours}\")"
   ]
  },
  {
   "cell_type": "code",
   "execution_count": 57,
   "metadata": {},
   "outputs": [
    {
     "name": "stdout",
     "output_type": "stream",
     "text": [
      "20\n",
      "20 days are 480 hours\n"
     ]
    }
   ],
   "source": [
    "# input converts anything into string, using casting to int()\n",
    "num_of_days = int(input(\"hey user, input the number of day and I will convert it to hours\\n\"))\n",
    "print(num_of_days)\n",
    "results = days_to_units_4(num_of_days)\n",
    "print(results)"
   ]
  },
  {
   "cell_type": "code",
   "execution_count": 59,
   "metadata": {},
   "outputs": [],
   "source": [
    "# restrict the input using conditionals\n",
    "def days_to_units_5(num_of_days):\n",
    "    if num_of_days > 0:\n",
    "        return f\"{num_of_days} days are {num_of_days * calculation_to_hours} {name_of_hours}\"\n",
    "    else:\n",
    "        return \"you entered a negative value, so no conversion for you!\""
   ]
  },
  {
   "cell_type": "code",
   "execution_count": 63,
   "metadata": {},
   "outputs": [
    {
     "name": "stdout",
     "output_type": "stream",
     "text": [
      "-10\n",
      "you entered a negative value, so no conversion for you!\n"
     ]
    }
   ],
   "source": [
    "# test function_5\n",
    "num_of_days = int(input(\"hey user, input the number of day and I will convert it to hours\\n\"))\n",
    "print(num_of_days)\n",
    "results = days_to_units_5(num_of_days)\n",
    "print(results)"
   ]
  },
  {
   "cell_type": "code",
   "execution_count": 66,
   "metadata": {},
   "outputs": [],
   "source": [
    "# check boolean\n",
    "def days_to_units_6(num_of_days):\n",
    "    print(num_of_days > 0)\n",
    "    print(type(num_of_days > 0))\n",
    "    if num_of_days > 0:\n",
    "        return f\"{num_of_days} days are {num_of_days * calculation_to_hours} {name_of_hours}\"\n",
    "    else:\n",
    "        return \"you entered a negative value, so no conversion for you!\""
   ]
  },
  {
   "cell_type": "code",
   "execution_count": 67,
   "metadata": {},
   "outputs": [
    {
     "name": "stdout",
     "output_type": "stream",
     "text": [
      "-10\n",
      "False\n",
      "<class 'bool'>\n",
      "you entered a negative value, so no conversion for you!\n"
     ]
    }
   ],
   "source": [
    "# test function_6\n",
    "num_of_days = int(input(\"hey user, input the number of day and I will convert it to hours\\n\"))\n",
    "print(num_of_days)\n",
    "results = days_to_units_6(num_of_days)\n",
    "print(results)"
   ]
  },
  {
   "cell_type": "code",
   "execution_count": 68,
   "metadata": {},
   "outputs": [],
   "source": [
    "# multi conditionals\n",
    "def days_to_units_7(num_of_days):\n",
    "    if num_of_days > 0:\n",
    "        return f\"{num_of_days} days are {num_of_days * calculation_to_hours} {name_of_hours}\"\n",
    "    elif num_of_days == 0:\n",
    "        return \"you entered a 0, please enter a positive number\"\n",
    "    else:\n",
    "        return \"you entered a negative value, so no conversion for you!\"\n"
   ]
  },
  {
   "cell_type": "code",
   "execution_count": 71,
   "metadata": {},
   "outputs": [
    {
     "name": "stdout",
     "output_type": "stream",
     "text": [
      "-10\n",
      "False\n",
      "<class 'bool'>\n",
      "you entered a negative value, so no conversion for you!\n"
     ]
    }
   ],
   "source": [
    "# test function_7\n",
    "num_of_days = int(input(\"hey user, input the number of day and I will convert it to hours\\n\"))\n",
    "print(num_of_days)\n",
    "results = days_to_units_6(num_of_days)\n",
    "print(results)"
   ]
  },
  {
   "cell_type": "code",
   "execution_count": 74,
   "metadata": {},
   "outputs": [
    {
     "name": "stdout",
     "output_type": "stream",
     "text": [
      "your input is not a positive int number. Don't ruin my program!\n"
     ]
    }
   ],
   "source": [
    "# prevent text value and non-int\n",
    "user_input = input(\"hey user, input the number of day and I will convert it to hours\\n\")\n",
    "\n",
    "# isdigit filters positive int number\n",
    "if user_input.isdigit():\n",
    "    num_of_days = int(user_input)\n",
    "    results = days_to_units_6(num_of_days)\n",
    "    print(results)\n",
    "else:\n",
    "    print(\"your input is not a positive int number. Don't ruin my program!\")\n",
    "    \n"
   ]
  },
  {
   "cell_type": "markdown",
   "metadata": {},
   "source": [
    "## 5. Encapsulate a function\n"
   ]
  },
  {
   "cell_type": "code",
   "execution_count": 78,
   "metadata": {},
   "outputs": [
    {
     "name": "stdout",
     "output_type": "stream",
     "text": [
      "your input is not a positive int number. Don't ruin my program!\n"
     ]
    }
   ],
   "source": [
    "def days_to_units_8(num_of_days):\n",
    "    if num_of_days > 0:\n",
    "        return f\"{num_of_days} days are {num_of_days * calculation_to_hours} {name_of_hours}\"\n",
    "    elif num_of_days == 0:\n",
    "        return \"you entered a 0, please enter a positive number\"\n",
    "    \n",
    "def validate_and_execute():\n",
    "    if user_input.isdigit():\n",
    "       num_of_days = int(user_input)\n",
    "       results = days_to_units_8(num_of_days)\n",
    "       print(results)\n",
    "    else:\n",
    "       print(\"your input is not a positive int number. Don't ruin my program!\")\n",
    "\n",
    "user_input = input(\"hey user, input the number of day and I will convert it to hours\\n\")\n",
    "validate_and_execute()\n"
   ]
  },
  {
   "cell_type": "code",
   "execution_count": 83,
   "metadata": {},
   "outputs": [
    {
     "name": "stdout",
     "output_type": "stream",
     "text": [
      "20 days are 480 hours\n"
     ]
    }
   ],
   "source": [
    "# a clean version to put validation in one place\n",
    "calculation_to_hours = 24\n",
    "name_of_hours = \"hours\"\n",
    "user_input = input(\"hey user, input the number of day and I will convert it to hours\\n\")\n",
    "\n",
    "def validate_and_execute():\n",
    "    if user_input.isdigit():\n",
    "       num_of_days = int(user_input)\n",
    "       if num_of_days > 0:\n",
    "          results = days_to_units_9(num_of_days)\n",
    "          print(results)\n",
    "       elif num_of_days == 0:\n",
    "          print(\"you entered a 0, please enter a positive number\") \n",
    "    else:\n",
    "       print(\"your input is not a positive int number. Don't ruin my program!\")\n",
    "\n",
    "def days_to_units_9(num_of_days):\n",
    "   return f\"{num_of_days} days are {num_of_days * calculation_to_hours} {name_of_hours}\"\n",
    "\n",
    "def validate_and_execute():\n",
    "    if user_input.isdigit():\n",
    "       num_of_days = int(user_input)\n",
    "       if num_of_days > 0:\n",
    "          results = days_to_units_9(num_of_days)\n",
    "          print(results)\n",
    "       elif num_of_days == 0:\n",
    "          print(\"you entered a 0, please enter a positive number\") \n",
    "    else:\n",
    "       print(\"your input is not a positive int number. Don't ruin my program!\")\n",
    "\n",
    "validate_and_execute()"
   ]
  },
  {
   "cell_type": "markdown",
   "metadata": {},
   "source": [
    "## 6. Handling errors with try/except"
   ]
  },
  {
   "cell_type": "code",
   "execution_count": 93,
   "metadata": {},
   "outputs": [],
   "source": [
    "calculation_to_hours = 24\n",
    "name_of_hours = \"hours\"\n",
    "user_input = input(\"hey user, input the number of day and I will convert it to hours\\n\")\n",
    "\n",
    "\n",
    "def days_to_units_9(num_of_days):\n",
    "   return f\"{num_of_days} days are {num_of_days * calculation_to_hours} {name_of_hours}\"\n",
    "\n",
    "\n",
    "# the try block: lets you \"test\" a block of code for errors\n",
    "def validate_and_execute_1():\n",
    "    try:  \n",
    "       num_of_days = int(user_input)\n",
    "       if num_of_days > 0:\n",
    "          results = days_to_units_9(num_of_days)\n",
    "          print(results)\n",
    "       elif num_of_days == 0:\n",
    "          print(\"you entered a 0, please enter a positive number\") \n",
    "       else:\n",
    "          print(\"you input a negative number, it does not make sense!\")\n",
    "    \n",
    "    except ValueError:\n",
    "       print(\"your input is not a positive int number. Don't ruin my program!\")\n",
    "\n",
    "\n",
    "validate_and_execute_1()"
   ]
  },
  {
   "cell_type": "markdown",
   "metadata": {},
   "source": [
    "## 7. Object-Oriented Programming"
   ]
  },
  {
   "cell_type": "code",
   "execution_count": null,
   "metadata": {},
   "outputs": [],
   "source": [
    "#create a new data type named Student\n",
    "class Student:\n",
    "    def __init__(self, name, house):\n",
    "        # instance variable\n",
    "        self.name = name\n",
    "        self.house = house\n",
    "\n",
    "    def __str__(self):\n",
    "        # define the output is a string\n",
    "        return f\"{self.name} from {self.house}\"\n",
    "\n",
    "    @property\n",
    "    def house(self):\n",
    "        return self._house\n",
    "\n",
    "    @house.setter\n",
    "    def house(self, house):\n",
    "        if house not in [\"Bristol\"]:\n",
    "            raise ValueError(\"Invalid\")\n",
    "        # differentiate the instance variable house with function house\n",
    "        self._house = house\n",
    "\n",
    "def main():\n",
    "    student = get_student()\n",
    "    print(student)\n",
    "\n",
    "def get_student():\n",
    "    name = input(\"Name: \").strip()\n",
    "    house = input(\"House: \").strip()\n",
    "    #construct a object with passed values of name and house\n",
    "    return Student(name, house)\n",
    "\n",
    "if __name__ == \"__main__\":\n",
    "    main()\n"
   ]
  },
  {
   "cell_type": "markdown",
   "metadata": {},
   "source": [
    "### classmethod"
   ]
  },
  {
   "cell_type": "code",
   "execution_count": null,
   "metadata": {},
   "outputs": [],
   "source": [
    "#create a new data type named Student\n",
    "class Student:\n",
    "    def __init__(self, name, house):\n",
    "        # instance variable\n",
    "        self.name = name\n",
    "        self.house = house\n",
    "\n",
    "    def __str__(self):\n",
    "        # define the output is a string\n",
    "        return f\"{self.name} from {self.house}\"\n",
    "\n",
    "    @classmethod\n",
    "    def get(cls):\n",
    "        name = input(\"Name: \").strip()\n",
    "        house = input(\"House: \").strip()\n",
    "        return cls(name, house)\n",
    "\n",
    "def main():\n",
    "    student = Student.get()\n",
    "    print(student)\n",
    "\n",
    "if __name__ == \"__main__\":\n",
    "    main()"
   ]
  },
  {
   "cell_type": "markdown",
   "metadata": {},
   "source": [
    "### Inheritance"
   ]
  },
  {
   "cell_type": "code",
   "execution_count": null,
   "metadata": {},
   "outputs": [],
   "source": [
    "class Wizard:\n",
    "    def __init__(self, name):\n",
    "        if not name:\n",
    "            raise ValueError(\"Missing name\")\n",
    "        self.name = name\n",
    "\n",
    "    ...\n",
    "\n",
    "class Student(Wizard):\n",
    "    def __init__(self, name, house):\n",
    "        #inherit the name from the superclass\n",
    "        super().__init__(name)\n",
    "        self.house = house\n",
    "\n",
    "    ...\n",
    "\n",
    "class Professor(Wizard):\n",
    "    def __init__(self, name, subject):\n",
    "        #inherit the name from the superclass\n",
    "        super().__init__(name)\n",
    "        self.subject = subject\n",
    "\n",
    "wizard = Wizard(\"Albus\")\n",
    "student = Student(\"Harry\", \"Gryffindor\")\n",
    "professor = Professor(\"Severus\", \"Defense Against the Dark Arts\")"
   ]
  },
  {
   "cell_type": "markdown",
   "metadata": {},
   "source": [
    "### Operator Overloading"
   ]
  },
  {
   "cell_type": "code",
   "execution_count": 1,
   "metadata": {},
   "outputs": [
    {
     "name": "stdout",
     "output_type": "stream",
     "text": [
      "100 Galleons, 50 Sickles, 25 Knuts\n",
      "25 Galleons, 50 Sickles, 100 Knuts\n",
      "125 Galleons, 100 Sickles, 125 Knuts\n"
     ]
    }
   ],
   "source": [
    "class Vault:\n",
    "    def __init__(self, galleons=0, sickles=0, knuts=0):\n",
    "        self.galleons = galleons\n",
    "        self.sickles = sickles\n",
    "        self.knuts = knuts\n",
    "\n",
    "    def __str__(self):\n",
    "        return f\"{self.galleons} Galleons, {self.sickles} Sickles, {self.knuts} Knuts\"\n",
    "\n",
    "    def __add__(self, other):\n",
    "        galleons = self.galleons + other.galleons\n",
    "        sickles = self.sickles + other.sickles\n",
    "        knuts = self.knuts + other.knuts\n",
    "        return Vault(galleons, sickles, knuts)\n",
    "\n",
    "\n",
    "potter = Vault(100, 50, 25)\n",
    "print(potter)\n",
    "\n",
    "weasley = Vault(25, 50, 100)\n",
    "print(weasley)\n",
    "\n",
    "total = potter + weasley\n",
    "print(total)\n"
   ]
  },
  {
   "cell_type": "markdown",
   "metadata": {},
   "source": [
    "### Another class example to replace global variable"
   ]
  },
  {
   "cell_type": "code",
   "execution_count": 1,
   "metadata": {},
   "outputs": [
    {
     "name": "stdout",
     "output_type": "stream",
     "text": [
      "Balance: 0\n",
      "Balance: 50\n"
     ]
    }
   ],
   "source": [
    "class Account:\n",
    "    def __init__(self):\n",
    "        self._balance = 0\n",
    "\n",
    "    # access the return value of the method as an attribute of an object\n",
    "    # e.g., account.balance\n",
    "    @property\n",
    "    def balance(self):\n",
    "        return self._balance\n",
    "    \n",
    "    @balance.setter\n",
    "    def balance(self, value):\n",
    "        if value < 0:\n",
    "            raise ValueError(\"Balance cannot be negative\")\n",
    "        self._balance = value\n",
    "\n",
    "    def deposit(self, n):\n",
    "        self._balance += n\n",
    "\n",
    "    def withdraw(self, n):\n",
    "        self._balance -= n\n",
    "\n",
    "\n",
    "def main():\n",
    "    account = Account()\n",
    "    # accessing '_balance' attribute through the 'balance' method\n",
    "    print(\"Balance:\", account.balance)\n",
    "    account.deposit(100)\n",
    "    account.withdraw(50)\n",
    "    print(\"Balance:\", account.balance)\n",
    "\n",
    "if __name__ == \"__main__\":\n",
    "    main()\n"
   ]
  },
  {
   "cell_type": "markdown",
   "metadata": {},
   "source": [
    "# 8. Constants"
   ]
  },
  {
   "cell_type": "code",
   "execution_count": 2,
   "metadata": {},
   "outputs": [
    {
     "name": "stdout",
     "output_type": "stream",
     "text": [
      "meow\n",
      "meow\n",
      "meow\n"
     ]
    }
   ],
   "source": [
    "class Cat:\n",
    "    #use all-uppercase names to indicate the constant\n",
    "    MEOWS = 3\n",
    "\n",
    "    def meow(self):\n",
    "        for _ in range(Cat.MEOWS):\n",
    "            print(\"meow\")\n",
    "\n",
    "cat = Cat()\n",
    "cat.meow()\n"
   ]
  },
  {
   "cell_type": "markdown",
   "metadata": {},
   "source": [
    "# 9. Type Hints, mypy"
   ]
  },
  {
   "cell_type": "code",
   "execution_count": 8,
   "metadata": {},
   "outputs": [
    {
     "name": "stdout",
     "output_type": "stream",
     "text": [
      "meow\n",
      "meow\n",
      "meow\n"
     ]
    }
   ],
   "source": [
    "def meow(n: int) -> str:\n",
    "    return \"meow\\n\" * n\n",
    "    \n",
    "\n",
    "number: int = int(input(\"Number: \"))\n",
    "meows: str = meow(number)\n",
    "print(meows, end=\"\")"
   ]
  },
  {
   "cell_type": "markdown",
   "metadata": {},
   "source": [
    "# 10. Docstrings"
   ]
  },
  {
   "cell_type": "code",
   "execution_count": 11,
   "metadata": {},
   "outputs": [
    {
     "name": "stdout",
     "output_type": "stream",
     "text": [
      "meow\n",
      "meow\n",
      "meow\n",
      "\n",
      "    Meow n times.\n",
      "    \n",
      "    :param n: Number of times to meow\n",
      "    :type n: int\n",
      "    :raise TypeError: If n is not an int\n",
      "    :return: A string of n meows, one per line\n",
      "    :rtype: str\n",
      "    \n"
     ]
    }
   ],
   "source": [
    "def meow(n: int) -> str:\n",
    "    \"\"\"\n",
    "    Meow n times.\n",
    "    \n",
    "    :param n: Number of times to meow\n",
    "    :type n: int\n",
    "    :raise TypeError: If n is not an int\n",
    "    :return: A string of n meows, one per line\n",
    "    :rtype: str\n",
    "    \"\"\"\n",
    "    return \"meow\\n\" * n\n",
    "    \n",
    "\n",
    "number: int = int(input(\"Number: \"))\n",
    "meows: str = meow(number)\n",
    "print(meows, end=\"\")\n",
    "\n",
    "print(meow.__doc__)"
   ]
  },
  {
   "cell_type": "markdown",
   "metadata": {},
   "source": [
    "# 11. argparse"
   ]
  },
  {
   "cell_type": "markdown",
   "metadata": {},
   "source": [
    "Without argparse library, the code is easily becoming complicated like the following cell. If I want to change -n to -b, -c, "
   ]
  },
  {
   "cell_type": "code",
   "execution_count": 23,
   "metadata": {},
   "outputs": [
    {
     "name": "stdout",
     "output_type": "stream",
     "text": [
      "meow\n"
     ]
    }
   ],
   "source": [
    "import sys\n",
    "\n",
    "def meow():\n",
    "    print(\"meow\")\n",
    "\n",
    "# Simulating command line arguments\n",
    "sys.argv = ['script_name', '-n', '1']\n",
    "\n",
    "if len(sys.argv) == 1:\n",
    "    meow()\n",
    "elif len(sys.argv) == 3 and sys.argv[1] == \"-n\":\n",
    "    n = int(sys.argv[2])\n",
    "    for _ in range(n):\n",
    "        meow()\n",
    "else:\n",
    "    print(\"usage:meow.py\")"
   ]
  },
  {
   "cell_type": "markdown",
   "metadata": {},
   "source": [
    "The updated code using argparse library"
   ]
  },
  {
   "cell_type": "code",
   "execution_count": 24,
   "metadata": {},
   "outputs": [
    {
     "name": "stdout",
     "output_type": "stream",
     "text": [
      "meow\n"
     ]
    }
   ],
   "source": [
    "import argparse\n",
    "\n",
    "parser = argparse.ArgumentParser()\n",
    "parser.add_argument(\"-n\", default=1, help=\"number of times to meow\", type=int)\n",
    "args = parser.parse_args()\n",
    "\n",
    "for _ in range(args.n):\n",
    "    print(\"meow\")\n"
   ]
  },
  {
   "cell_type": "markdown",
   "metadata": {},
   "source": [
    "# 12. Unpacking"
   ]
  },
  {
   "cell_type": "code",
   "execution_count": 31,
   "metadata": {},
   "outputs": [
    {
     "name": "stdout",
     "output_type": "stream",
     "text": [
      "50775 Knuts\n"
     ]
    }
   ],
   "source": [
    "def total(galleons, sickles, knuts):\n",
    "    return (galleons * 17 +  sickles) * 29 + knuts\n",
    "\n",
    "coins = [100, 50, 25]\n",
    "\n",
    "# using * to pass the elements of the list\n",
    "# it is the equivalent of a comma separated list\n",
    "print(total(*coins), \"Knuts\")"
   ]
  },
  {
   "cell_type": "code",
   "execution_count": 33,
   "metadata": {},
   "outputs": [
    {
     "name": "stdout",
     "output_type": "stream",
     "text": [
      "50775 Knuts\n"
     ]
    }
   ],
   "source": [
    "# try dictionary\n",
    "def total(galleons, sickles, knuts):\n",
    "    return (galleons * 17 +  sickles) * 29 + knuts\n",
    "\n",
    "coins = {\"galleons\":100, \"sickles\":50, \"knuts\":25}\n",
    "\n",
    "# using ** to pass the 3 values of names in dictionary\n",
    "print(total(**coins), \"Knuts\")"
   ]
  },
  {
   "cell_type": "markdown",
   "metadata": {},
   "source": [
    "## *args, **kwargs\n",
    "\n",
    "Handle variable numbers of arguments\n",
    "\n",
    "*args accepts any number of arguments\n",
    "\n",
    "**kwargs accepts a variable number of keyword arguments (named arguments)"
   ]
  },
  {
   "cell_type": "code",
   "execution_count": 34,
   "metadata": {},
   "outputs": [
    {
     "name": "stdout",
     "output_type": "stream",
     "text": [
      "Postiional: (100, 50, 25)\n"
     ]
    }
   ],
   "source": [
    "def f(*args, **kwargs):\n",
    "    print(\"Postiional:\", args)\n",
    "\n",
    "f(100, 50, 25)"
   ]
  },
  {
   "cell_type": "code",
   "execution_count": 35,
   "metadata": {},
   "outputs": [
    {
     "name": "stdout",
     "output_type": "stream",
     "text": [
      "Name: {'galleons': 100, 'sickles': 50, 'knuts': 25}\n"
     ]
    }
   ],
   "source": [
    "def f(*args, **kwargs):\n",
    "    print(\"Name:\", kwargs)\n",
    "\n",
    "f(galleons=100, sickles=50, knuts=25)"
   ]
  },
  {
   "cell_type": "markdown",
   "metadata": {},
   "source": [
    "# 13. map"
   ]
  },
  {
   "cell_type": "code",
   "execution_count": 42,
   "metadata": {},
   "outputs": [
    {
     "name": "stdout",
     "output_type": "stream",
     "text": [
      "THIS IS CS50\n"
     ]
    }
   ],
   "source": [
    "def main():\n",
    "    yell(\"This\", \"is\",  \"CS50\")\n",
    "\n",
    "# *words means a variable of number passing in\n",
    "# passing the function to map functions\n",
    "def yell(*words):\n",
    "    uppercased = map(str.upper, words) #map(function, iterable, ...)\n",
    "    print(*uppercased)\n",
    "\n",
    "if __name__ == \"__main__\":\n",
    "    main()"
   ]
  },
  {
   "cell_type": "markdown",
   "metadata": {},
   "source": [
    "# 14. List Comprehensions"
   ]
  },
  {
   "cell_type": "code",
   "execution_count": 43,
   "metadata": {},
   "outputs": [
    {
     "name": "stdout",
     "output_type": "stream",
     "text": [
      "THIS IS CS50\n"
     ]
    }
   ],
   "source": [
    "def main():\n",
    "    yell(\"This\", \"is\",  \"CS50\")\n",
    "\n",
    "def yell(*words):\n",
    "    uppercased = [word.upper() for word in words]\n",
    "    print(*uppercased)\n",
    "\n",
    "if __name__ == \"__main__\":\n",
    "    main()"
   ]
  },
  {
   "cell_type": "markdown",
   "metadata": {},
   "source": [
    "# 15. filter"
   ]
  },
  {
   "cell_type": "markdown",
   "metadata": {},
   "source": [
    "filter(function, iterable)"
   ]
  },
  {
   "cell_type": "code",
   "execution_count": 52,
   "metadata": {},
   "outputs": [
    {
     "name": "stdout",
     "output_type": "stream",
     "text": [
      "<class 'filter'>\n",
      "Harry\n",
      "Hermione\n",
      "Ron\n"
     ]
    }
   ],
   "source": [
    "students = [\n",
    "    {\"name\": \"Hermione\", \"house\": \"Gryffindor\"},\n",
    "    {\"name\": \"Harry\", \"house\": \"Gryffindor\"},\n",
    "    {\"name\": \"Ron\", \"house\": \"Gryffindor\"},\n",
    "    {\"name\": \"Draco\", \"house\": \"Slytherin\"}\n",
    "]\n",
    "\n",
    "def is_gryffindor(s):\n",
    "    return s[\"house\"] == \"Gryffindor\"\n",
    "\n",
    "# return a filter object (iterator)\n",
    "griffindors = filter(is_gryffindor, students)\n",
    "\n",
    "print(type(griffindors))\n",
    "\n",
    "for gryffindor in sorted(griffindors, key=lambda s:s[\"name\"]):\n",
    "    print(gryffindor[\"name\"])"
   ]
  },
  {
   "cell_type": "markdown",
   "metadata": {},
   "source": [
    "# 16. Dictionary Comprehensions"
   ]
  },
  {
   "cell_type": "code",
   "execution_count": 55,
   "metadata": {},
   "outputs": [
    {
     "name": "stdout",
     "output_type": "stream",
     "text": [
      "{'Hermione': 'Gryffindor', 'Harry': 'Gryffindor', 'Ron': 'Gryffindor'}\n"
     ]
    }
   ],
   "source": [
    "students = [\"Hermione\", \"Harry\", \"Ron\"]\n",
    "\n",
    "gryffindors = {student: \"Gryffindor\" for student in students}\n",
    "\n",
    "print(gryffindors)"
   ]
  },
  {
   "cell_type": "markdown",
   "metadata": {},
   "source": [
    "# 17. enumerate"
   ]
  },
  {
   "cell_type": "code",
   "execution_count": 58,
   "metadata": {},
   "outputs": [
    {
     "name": "stdout",
     "output_type": "stream",
     "text": [
      "1 Hermione\n",
      "2 Harry\n",
      "3 Ron\n"
     ]
    }
   ],
   "source": [
    "students = [\"Hermione\", \"Harry\", \"Ron\"]\n",
    "\n",
    "for i, student in enumerate(students):\n",
    "    print(i+1, student)"
   ]
  },
  {
   "cell_type": "markdown",
   "metadata": {},
   "source": [
    "# 18. Generators, Iterators, yield"
   ]
  },
  {
   "cell_type": "markdown",
   "metadata": {},
   "source": [
    "generators and yield help generate **a little bit** of data at a time. Implementation of asynchronism."
   ]
  },
  {
   "cell_type": "code",
   "execution_count": 67,
   "metadata": {},
   "outputs": [
    {
     "name": "stdout",
     "output_type": "stream",
     "text": [
      "\n",
      "🐏\n",
      "🐏🐏\n",
      "🐏🐏🐏\n",
      "🐏🐏🐏🐏\n",
      "🐏🐏🐏🐏🐏\n",
      "🐏🐏🐏🐏🐏🐏\n",
      "🐏🐏🐏🐏🐏🐏🐏\n",
      "🐏🐏🐏🐏🐏🐏🐏🐏\n",
      "🐏🐏🐏🐏🐏🐏🐏🐏🐏\n",
      "🐏🐏🐏🐏🐏🐏🐏🐏🐏🐏\n",
      "🐏🐏🐏🐏🐏🐏🐏🐏🐏🐏🐏\n",
      "🐏🐏🐏🐏🐏🐏🐏🐏🐏🐏🐏🐏\n",
      "🐏🐏🐏🐏🐏🐏🐏🐏🐏🐏🐏🐏🐏\n"
     ]
    }
   ],
   "source": [
    "def main():\n",
    "    n = int(input(\"What's n?\"))\n",
    "    for s in sheep(n):\n",
    "        print(s)\n",
    "\n",
    "def sheep(n):\n",
    "    for i in range(n):\n",
    "        yield \"🐏\" * i\n",
    "    \n",
    "if __name__ == \"__main__\":\n",
    "    main()"
   ]
  }
 ],
 "metadata": {
  "kernelspec": {
   "display_name": "Python 3",
   "language": "python",
   "name": "python3"
  },
  "language_info": {
   "codemirror_mode": {
    "name": "ipython",
    "version": 3
   },
   "file_extension": ".py",
   "mimetype": "text/x-python",
   "name": "python",
   "nbconvert_exporter": "python",
   "pygments_lexer": "ipython3",
   "version": "3.9.12"
  },
  "orig_nbformat": 4
 },
 "nbformat": 4,
 "nbformat_minor": 2
}
