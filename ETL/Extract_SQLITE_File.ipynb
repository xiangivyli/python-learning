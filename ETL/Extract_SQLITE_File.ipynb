{
 "cells": [
  {
   "attachments": {},
   "cell_type": "markdown",
   "metadata": {},
   "source": [
    "# Extract data from SQLITE file\n",
    "\n",
    "ETL is the most frequent process for data engineers, DE needs to integrate data from various heterogeneous sources for data analysts and data scientist.\n",
    "\n",
    "This practice is under a context where DE needs to get data from a SQLITE file and then import it into SQL Server."
   ]
  },
  {
   "cell_type": "code",
   "execution_count": 30,
   "metadata": {},
   "outputs": [],
   "source": [
    "import sqlite3\n",
    "import pyodbc # connect SQL Server"
   ]
  },
  {
   "attachments": {},
   "cell_type": "markdown",
   "metadata": {},
   "source": [
    "### Step 1 Extract tables and columns with sqlite 3"
   ]
  },
  {
   "cell_type": "code",
   "execution_count": 31,
   "metadata": {},
   "outputs": [],
   "source": [
    "# Connect to the SQLite database file\n",
    "conn = sqlite3.connect('D:/Learn_DS/Git/python-learning/ETL/data/database.sqlite')"
   ]
  },
  {
   "cell_type": "code",
   "execution_count": 32,
   "metadata": {},
   "outputs": [
    {
     "data": {
      "text/plain": [
       "[('reviews',),\n",
       " ('artists',),\n",
       " ('genres',),\n",
       " ('labels',),\n",
       " ('years',),\n",
       " ('content',)]"
      ]
     },
     "execution_count": 32,
     "metadata": {},
     "output_type": "execute_result"
    }
   ],
   "source": [
    "# Create a cursor object\n",
    "cursor = conn.cursor()\n",
    "\n",
    "# Retrieve the table names from the database\n",
    "cursor.execute(\"SELECT name FROM sqlite_master WHERE type='table';\")\n",
    "table_names = cursor.fetchall()\n",
    "table_names"
   ]
  },
  {
   "cell_type": "code",
   "execution_count": 33,
   "metadata": {},
   "outputs": [
    {
     "name": "stdout",
     "output_type": "stream",
     "text": [
      "Table: reviews\n",
      "Columns:\n",
      "reviewid\n",
      "title\n",
      "artist\n",
      "url\n",
      "score\n",
      "best_new_music\n",
      "author\n",
      "author_type\n",
      "pub_date\n",
      "pub_weekday\n",
      "pub_day\n",
      "pub_month\n",
      "pub_year\n",
      "DataTypes:\n",
      "INTEGER\n",
      "TEXT\n",
      "TEXT\n",
      "TEXT\n",
      "REAL\n",
      "INTEGER\n",
      "TEXT\n",
      "TEXT\n",
      "TEXT\n",
      "INTEGER\n",
      "INTEGER\n",
      "INTEGER\n",
      "INTEGER\n",
      "\n",
      "Table: artists\n",
      "Columns:\n",
      "reviewid\n",
      "artist\n",
      "DataTypes:\n",
      "INTEGER\n",
      "TEXT\n",
      "\n",
      "Table: genres\n",
      "Columns:\n",
      "reviewid\n",
      "genre\n",
      "DataTypes:\n",
      "INTEGER\n",
      "TEXT\n",
      "\n",
      "Table: labels\n",
      "Columns:\n",
      "reviewid\n",
      "label\n",
      "DataTypes:\n",
      "INTEGER\n",
      "TEXT\n",
      "\n",
      "Table: years\n",
      "Columns:\n",
      "reviewid\n",
      "year\n",
      "DataTypes:\n",
      "INTEGER\n",
      "INTEGER\n",
      "\n",
      "Table: content\n",
      "Columns:\n",
      "reviewid\n",
      "content\n",
      "DataTypes:\n",
      "INTEGER\n",
      "TEXT\n",
      "\n"
     ]
    }
   ],
   "source": [
    "# Iterate over each table\n",
    "for table_name in table_names:\n",
    "    table_name = table_name[0]  # Extract the table name from the result tuple\n",
    "    \n",
    "    # Execute the PRAGMA statement to get column information\n",
    "    cursor.execute(f\"PRAGMA table_info({table_name})\")\n",
    "    columns = cursor.fetchall()\n",
    "    \n",
    "    # Dictionary to store table data\n",
    "    table_data = {}\n",
    "\n",
    "    # Extract the column names\n",
    "    column_names = [column[1] for column in columns]\n",
    "    column_datatypes = [column[2] for column in columns]\n",
    "\n",
    "    # Store the column names and datatypes in the dictionary\n",
    "    table_data[table_name] = {\n",
    "         'column_names': column_names,\n",
    "         'column_datatypes': column_datatypes\n",
    "    }\n",
    "\n",
    "    # Print the column names\n",
    "    print(f\"Table: {table_name}\")\n",
    "    print(\"Columns:\")\n",
    "    for column_name in column_names:\n",
    "         print(column_name)\n",
    "    print(\"DataTypes:\")\n",
    "    for column_datatype in column_datatypes:\n",
    "         print(column_datatype)\n",
    "\n",
    "    print()\n"
   ]
  },
  {
   "attachments": {},
   "cell_type": "markdown",
   "metadata": {},
   "source": [
    "### Step 2 Connect SQL Server then import data"
   ]
  },
  {
   "cell_type": "code",
   "execution_count": 34,
   "metadata": {},
   "outputs": [],
   "source": [
    "# Establish a connection\n",
    "conn_sqlserver = pyodbc.connect(\n",
    "    \"DRIVER={ODBC Driver 17 for SQL Server};\"\n",
    "    \"SERVER=DESKTOP-FIS40MH\\MSSQLSERVER01;\"\n",
    "    \"DATABASE_NAME=Project;\"\n",
    "    \"Trusted_Connection=yes;\"\n",
    "     )\n",
    "\n",
    "# Create a cursor object for SQL Server\n",
    "cursor_sqlserver = conn_sqlserver.cursor()"
   ]
  },
  {
   "cell_type": "code",
   "execution_count": 35,
   "metadata": {},
   "outputs": [],
   "source": [
    "# Iterate over each table\n",
    "for table_name, table_data in table_data.items():\n",
    "    #Extract column names and datatypes\n",
    "    column_names = table_data['column_names']\n",
    "    column_datatypes = table_data['column_datatypes']\n",
    "    \n",
    "    # Create the table in SQL Server\n",
    "    create_table_query = f\"CREATE TABLE {table_name} (\"\n",
    "    create_table_query += ', '.join([f\"{column_name} {column_datatype}\" for column_name, column_datatype in zip(column_names, column_datatypes)])\n",
    "    create_table_query += \")\"\n",
    "    \n",
    "    cursor_sqlserver.execute(create_table_query)\n",
    "\n",
    "    # Insert data into the table\n",
    "    insert_query = f\"INSERT INTO {table_name} VALUES ({', '.join(['?'] * len(column_names))})\"\n",
    "    cursor_sqlserver.executemany(insert_query, cursor.execute(f\"SELECT * FROM {table_name}\").fetchall())"
   ]
  },
  {
   "cell_type": "code",
   "execution_count": null,
   "metadata": {},
   "outputs": [],
   "source": [
    "# Close the SQLite connection\n",
    "conn.close()"
   ]
  },
  {
   "cell_type": "code",
   "execution_count": 36,
   "metadata": {},
   "outputs": [],
   "source": [
    "# Commit and close SQL Server connection\n",
    "conn_sqlserver.commit()\n",
    "conn_sqlserver.close()\n"
   ]
  }
 ],
 "metadata": {
  "kernelspec": {
   "display_name": "base",
   "language": "python",
   "name": "python3"
  },
  "language_info": {
   "codemirror_mode": {
    "name": "ipython",
    "version": 3
   },
   "file_extension": ".py",
   "mimetype": "text/x-python",
   "name": "python",
   "nbconvert_exporter": "python",
   "pygments_lexer": "ipython3",
   "version": "3.7.4"
  },
  "orig_nbformat": 4
 },
 "nbformat": 4,
 "nbformat_minor": 2
}
