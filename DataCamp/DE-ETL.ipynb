{
 "cells": [
  {
   "attachments": {},
   "cell_type": "markdown",
   "metadata": {},
   "source": [
    "# Extract, Transform and Load\n",
    "\n",
    "ETL is the most frequent process for data engineers, DE needs to integrate data from various heterogeneous sources for data analysts and data scientist.\n",
    "\n",
    "This practice is under a context where DE needs to get sales data from a URL and then store it locally."
   ]
  },
  {
   "attachments": {},
   "cell_type": "markdown",
   "metadata": {},
   "source": [
    "## Extract\n",
    "Extract data from a storage, I request data and data are sent back. \n",
    "\n",
    "In this case, I have an URL to source data.\n",
    "\n",
    "### 1. requests library\n",
    "\n",
    "**GET** request/fetch data from a resource"
   ]
  },
  {
   "cell_type": "code",
   "execution_count": 16,
   "metadata": {},
   "outputs": [
    {
     "name": "stdout",
     "output_type": "stream",
     "text": [
      "200\n",
      "              Header                                              Value\n",
      "0               Date                      Sat, 29 Apr 2023 22:49:27 GMT\n",
      "1       Content-Type                           application/octet-stream\n",
      "2     Content-Length                                             249296\n",
      "3         Connection                                         keep-alive\n",
      "4         x-amz-id-2  XW89DzPlpbUccYH/eZ5vX66OyaaVjqG0VuwuzCmpovCOU+...\n",
      "5   x-amz-request-id                                   SDQ1W0F2DF1G27D2\n",
      "6      Last-Modified                      Sun, 30 May 2021 14:00:42 GMT\n",
      "7   x-amz-version-id                   yT6365UyrWqhSlRsEPyBehY7HKsnLPmH\n",
      "8               ETag                 \"5840e486b3afdf58267d80163cb5d0cf\"\n",
      "9    CF-Cache-Status                                                HIT\n",
      "10               Age                                               5902\n",
      "11     Accept-Ranges                                              bytes\n",
      "12        Set-Cookie  __cf_bm=cQ5YfeZM7iZm86DOjWUq932JBK4dd5BL9.kKup...\n",
      "13              Vary                                    Accept-Encoding\n",
      "14            Server                                         cloudflare\n",
      "15            CF-RAY                               7bfb1929df107572-LHR\n"
     ]
    }
   ],
   "source": [
    "# requests library\n",
    "import requests\n",
    "import pandas as pd\n",
    "\n",
    "# Get the zip file\n",
    "path = \"https://assets.datacamp.com/production/repositories/5899/datasets/19d6cf619d6a771314f0eb489262a31f89c424c2/ppr-all.zip\"\n",
    "response = requests.get(path)\n",
    "\n",
    "# Print the status code, 200 means ok\n",
    "print(response.status_code)\n",
    "\n",
    "# Print the headers (metadata)\n",
    "print(pd.DataFrame(response.headers.items(), columns=[\"Header\",\"Value\"]))\n",
    "\n"
   ]
  },
  {
   "attachments": {},
   "cell_type": "markdown",
   "metadata": {},
   "source": [
    "### 2. f-strings to build a local path\n",
    "\n",
    "f-strings is a fancy way to format strings, it combines expressions inside string literals."
   ]
  },
  {
   "cell_type": "code",
   "execution_count": 6,
   "metadata": {},
   "outputs": [
    {
     "name": "stdout",
     "output_type": "stream",
     "text": [
      "File ETL_Demo.zip does not exist at D:/Learn_DS/Git/python-learning/DataCamp//data/ETL_Demo.zip\n"
     ]
    }
   ],
   "source": [
    "# os library\n",
    "import os\n",
    "\n",
    "# Set routes\n",
    "root_dir = 'D:/Learn_DS/Git/python-learning/DataCamp/'\n",
    "data_dir = 'data'\n",
    "file_name = 'ETL_Demo.zip'\n",
    "\n",
    "# Create local directory\n",
    "if not os.path.exists(data_dir):\n",
    "    os.makedirs(data_dir)\n",
    "\n",
    "# build path using f-string\n",
    "file_path = f\"{root_dir}/{data_dir}/{file_name}\"\n",
    "\n",
    "# check if file exists\n",
    "if os.path.exists(file_path):\n",
    "    print(f\"File {file_name} exists at {file_path}\")\n",
    "else:\n",
    "    print(f\"File {file_name} does not exist at {file_path}\")"
   ]
  },
  {
   "attachments": {},
   "cell_type": "markdown",
   "metadata": {},
   "source": [
    "### 3. save online file locally"
   ]
  },
  {
   "cell_type": "code",
   "execution_count": 7,
   "metadata": {},
   "outputs": [],
   "source": [
    "# Save the file locally, with can close the file after writing it, mode wb for zip file\n",
    "with open(file_path, \"wb\") as f:\n",
    "    f.write(response.content)"
   ]
  },
  {
   "attachments": {},
   "cell_type": "markdown",
   "metadata": {},
   "source": [
    "### 4. unzip the Zip file"
   ]
  },
  {
   "cell_type": "code",
   "execution_count": 10,
   "metadata": {},
   "outputs": [
    {
     "name": "stdout",
     "output_type": "stream",
     "text": [
      "['ppr-all.csv']\n",
      "data\\ppr-all.csv\n"
     ]
    }
   ],
   "source": [
    "# Unzipped the ZIP file\n",
    "from zipfile import ZipFile\n",
    "\n",
    "# Check files\n",
    "\n",
    "with ZipFile(file_path, mode=\"r\") as f:\n",
    "  \t# Get the list of files and print it\n",
    "    file_names = f.namelist()\n",
    "    print(file_names)\n",
    "    # Extract the csv file\n",
    "    csv_file_path = f.extract(file_names[0], path=data_dir)\n",
    "    print(csv_file_path)\n",
    "\n"
   ]
  },
  {
   "attachments": {},
   "cell_type": "markdown",
   "metadata": {},
   "source": [
    "### 5. read the CSV file"
   ]
  },
  {
   "cell_type": "code",
   "execution_count": 14,
   "metadata": {},
   "outputs": [
    {
     "name": "stdout",
     "output_type": "stream",
     "text": [
      "{'Address': '16 BURLEIGH COURT, BURLINGTON ROAD, DUBLIN 4',\n",
      " 'County': 'Dublin',\n",
      " 'Date of Sale (dd/mm/yyyy)': '03/01/2021',\n",
      " 'Description of Property': 'Second-Hand Dwelling house /Apartment',\n",
      " 'Postal Code': 'Dublin 4',\n",
      " 'Price (€)': '€450,000.00'}\n"
     ]
    }
   ],
   "source": [
    "# csv model\n",
    "import csv\n",
    "from pprint import pprint\n",
    "\n",
    "# open function\n",
    "with open(csv_file_path, mode=\"r\", encoding=\"windows-1252\") as csv_file:\n",
    "    reader= csv.DictReader(csv_file)\n",
    "    # get the first row\n",
    "    row=next(reader)\n",
    "    pprint(row)"
   ]
  },
  {
   "cell_type": "code",
   "execution_count": 23,
   "metadata": {},
   "outputs": [
    {
     "name": "stdout",
     "output_type": "stream",
     "text": [
      "     Date of Sale (dd/mm/yyyy)                                       Address  \\\n",
      "7611                01/03/2021           CORMAC STREET, TULLAMORE, CO OFFALY   \n",
      "8382                05/03/2021                   66 PARKLANDS, YOUGHAL, CORK   \n",
      "6971                25/02/2021  72 MARIAN AVENUE, CLONMINAN ROAD, PORTLAOISE   \n",
      "8328                05/03/2021            41 MERCHANT SQ, EASTWALL, DUBLIN 3   \n",
      "3518                02/02/2021           WEAVERS SQ, BALTINGLASS, CO WICKLOW   \n",
      "\n",
      "     Postal Code   County    Price (€)                Description of Property  \n",
      "7611         NaN   Offaly  €370,000.00  Second-Hand Dwelling house /Apartment  \n",
      "8382         NaN     Cork  €210,000.00  Second-Hand Dwelling house /Apartment  \n",
      "6971         NaN    Laois  €189,000.00  Second-Hand Dwelling house /Apartment  \n",
      "8328    Dublin 3   Dublin  €315,000.00  Second-Hand Dwelling house /Apartment  \n",
      "3518         NaN  Wicklow  €151,000.00  Second-Hand Dwelling house /Apartment  \n"
     ]
    }
   ],
   "source": [
    "# Read the CSV file into a pandas DataFrame\n",
    "df = pd.read_csv(csv_file_path, encoding=\"windows-1252\")\n",
    "\n",
    "# Print the first five rows of the DataFrame\n",
    "print(df.sample(5))"
   ]
  },
  {
   "cell_type": "code",
   "execution_count": 26,
   "metadata": {},
   "outputs": [
    {
     "name": "stdout",
     "output_type": "stream",
     "text": [
      "11999 6\n"
     ]
    }
   ],
   "source": [
    "# The size of CSV file\n",
    "print(df.shape[0], df.shape[1])"
   ]
  },
  {
   "attachments": {},
   "cell_type": "markdown",
   "metadata": {},
   "source": [
    "# Transform\n"
   ]
  }
 ],
 "metadata": {
  "kernelspec": {
   "display_name": "base",
   "language": "python",
   "name": "python3"
  },
  "language_info": {
   "codemirror_mode": {
    "name": "ipython",
    "version": 3
   },
   "file_extension": ".py",
   "mimetype": "text/x-python",
   "name": "python",
   "nbconvert_exporter": "python",
   "pygments_lexer": "ipython3",
   "version": "3.9.12"
  },
  "orig_nbformat": 4
 },
 "nbformat": 4,
 "nbformat_minor": 2
}
