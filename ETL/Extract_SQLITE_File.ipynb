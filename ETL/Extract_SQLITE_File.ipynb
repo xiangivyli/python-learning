{
 "cells": [
  {
   "attachments": {},
   "cell_type": "markdown",
   "metadata": {},
   "source": [
    "# Extract data from SQLITE file\n",
    "\n",
    "ETL is the most frequent process for data engineers, DE needs to integrate data from various heterogeneous sources for data analysts and data scientist.\n",
    "\n",
    "This practice is under a context where DE needs to get data from a SQLITE file and then import it into SQL Server."
   ]
  },
  {
   "cell_type": "code",
   "execution_count": 3,
   "metadata": {},
   "outputs": [],
   "source": [
    "import sqlite3\n",
    "import pypyodbc # connect SQL Server\n",
    "import pandas as pd"
   ]
  },
  {
   "attachments": {},
   "cell_type": "markdown",
   "metadata": {},
   "source": [
    "### Step 1 Import database with sqlite 3"
   ]
  },
  {
   "cell_type": "code",
   "execution_count": 4,
   "metadata": {},
   "outputs": [],
   "source": [
    "# Connect to the SQLite database file\n",
    "conn = sqlite3.connect('D:/Learn_DS/Git/python-learning/ETL/data/database.sqlite')"
   ]
  },
  {
   "cell_type": "code",
   "execution_count": 17,
   "metadata": {},
   "outputs": [
    {
     "data": {
      "text/plain": [
       "[('reviews',),\n",
       " ('artists',),\n",
       " ('genres',),\n",
       " ('labels',),\n",
       " ('years',),\n",
       " ('content',)]"
      ]
     },
     "execution_count": 17,
     "metadata": {},
     "output_type": "execute_result"
    }
   ],
   "source": [
    "# Create a cursor object\n",
    "cursor = conn.cursor()\n",
    "\n",
    "# Retrieve the table names from the database\n",
    "cursor.execute(\"SELECT name FROM sqlite_master WHERE type='table';\")\n",
    "table_names = cursor.fetchall()\n",
    "table_names"
   ]
  },
  {
   "cell_type": "code",
   "execution_count": 19,
   "metadata": {},
   "outputs": [
    {
     "name": "stdout",
     "output_type": "stream",
     "text": [
      "Table: reviews\n",
      "Columns:\n",
      "reviewid\n",
      "title\n",
      "artist\n",
      "url\n",
      "score\n",
      "best_new_music\n",
      "author\n",
      "author_type\n",
      "pub_date\n",
      "pub_weekday\n",
      "pub_day\n",
      "pub_month\n",
      "pub_year\n",
      "\n",
      "Table: artists\n",
      "Columns:\n",
      "reviewid\n",
      "artist\n",
      "\n",
      "Table: genres\n",
      "Columns:\n",
      "reviewid\n",
      "genre\n",
      "\n",
      "Table: labels\n",
      "Columns:\n",
      "reviewid\n",
      "label\n",
      "\n",
      "Table: years\n",
      "Columns:\n",
      "reviewid\n",
      "year\n",
      "\n",
      "Table: content\n",
      "Columns:\n",
      "reviewid\n",
      "content\n",
      "\n"
     ]
    }
   ],
   "source": [
    "# Iterate over each table\n",
    "for table_name in table_names:\n",
    "    table_name = table_name[0]  # Extract the table name from the result tuple\n",
    "    \n",
    "    # Execute the PRAGMA statement to get column information\n",
    "    cursor.execute(f\"PRAGMA table_info({table_name})\")\n",
    "    columns = cursor.fetchall()\n",
    "\n",
    "    # Extract the column names\n",
    "    column_names = [column[1] for column in columns]\n",
    "\n",
    "    # Print the column names\n",
    "    print(f\"Table: {table_name}\")\n",
    "    print(\"Columns:\")\n",
    "    for column_name in column_names:\n",
    "        print(column_name)\n",
    "\n",
    "    print()"
   ]
  },
  {
   "attachments": {},
   "cell_type": "markdown",
   "metadata": {},
   "source": [
    "### Step 2 Connect SQL Server then import data"
   ]
  },
  {
   "cell_type": "code",
   "execution_count": null,
   "metadata": {},
   "outputs": [],
   "source": [
    "# Establish a connection\n",
    "conn_sqlserver = pypyodbc.connect (\n",
    "    DRIVER = '{SQL Server};'\n",
    "    SERVER_NAME = 'DESKTOP-FIS40MH\\MSSQLSERVER01;'\n",
    "    DATABASE_NAME = 'Project;'\n",
    "     )\n",
    "cursor_sqlserver = conn_sqlserver.cursor()"
   ]
  },
  {
   "cell_type": "code",
   "execution_count": null,
   "metadata": {},
   "outputs": [],
   "source": [
    "# Create 'reviews' table in SQL Server\n",
    "cursor_sqlserver.execute('CREATE TABLE reviews (column1 datatype, column2 datatype, ...)')\n",
    "# Insert data into 'reviews' table\n",
    "for row in reviews_data:\n",
    "    cursor_sqlserver.execute('INSERT INTO reviews (column1, column2, ...) VALUES (?, ?, ...)', row)\n"
   ]
  },
  {
   "cell_type": "code",
   "execution_count": null,
   "metadata": {},
   "outputs": [],
   "source": [
    "\n",
    "# Commit and close SQLite connection\n",
    "conn.commit()\n",
    "conn.close()\n",
    "\n",
    "# Commit and close SQL Server connection\n",
    "conn_sqlserver.commit()\n",
    "conn_sqlserver.close()\n"
   ]
  }
 ],
 "metadata": {
  "kernelspec": {
   "display_name": "base",
   "language": "python",
   "name": "python3"
  },
  "language_info": {
   "codemirror_mode": {
    "name": "ipython",
    "version": 3
   },
   "file_extension": ".py",
   "mimetype": "text/x-python",
   "name": "python",
   "nbconvert_exporter": "python",
   "pygments_lexer": "ipython3",
   "version": "3.7.4"
  },
  "orig_nbformat": 4
 },
 "nbformat": 4,
 "nbformat_minor": 2
}
