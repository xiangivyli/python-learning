{
 "cells": [
  {
   "attachments": {},
   "cell_type": "markdown",
   "metadata": {},
   "source": [
    "# Extract, Transform and Load\n",
    "\n",
    "ETL is the most frequent process for data engineers, DE needs to integrate data from various heterogeneous sources for data analysts and data scientist.\n",
    "\n",
    "This practice is under a context where DE needs to get sales data from a URL and then store it locally."
   ]
  },
  {
   "attachments": {},
   "cell_type": "markdown",
   "metadata": {},
   "source": [
    "## Extract\n",
    "Extract data from a storage, you request data and data are sent back. \n",
    "\n",
    "\n",
    "### requests and zipfile libraries\n",
    "\n",
    "**GET** request/fetch data from a resource\n",
    "**POST** create/update a resource"
   ]
  },
  {
   "cell_type": "code",
   "execution_count": 6,
   "metadata": {},
   "outputs": [
    {
     "name": "stdout",
     "output_type": "stream",
     "text": [
      "200\n"
     ]
    }
   ],
   "source": [
    "# request data from an URL\n",
    "import requests\n",
    "\n",
    "# Get the zip file\n",
    "response = requests.get(\"https://assets.datacamp.com/production/repositories/5899/datasets/19d6cf619d6a771314f0eb489262a31f89c424c2/ppr-all.zip\")\n",
    "\n",
    "# Print the status code, \n",
    "print(response.status_code)\n",
    "\n",
    "# Save the file locally \n",
    "local_path = f\"D:/Learn_DS/Git/python-learning/DataCamp/PPR-ALL.zip\"\n",
    "with open(local_path, \"wb\") as f:\n",
    "    f.write(response.content)"
   ]
  },
  {
   "cell_type": "code",
   "execution_count": null,
   "metadata": {},
   "outputs": [],
   "source": [
    "# zipfile\n",
    "from zipfile import ZipFile"
   ]
  },
  {
   "attachments": {},
   "cell_type": "markdown",
   "metadata": {},
   "source": [
    "# Transform\n"
   ]
  }
 ],
 "metadata": {
  "kernelspec": {
   "display_name": "base",
   "language": "python",
   "name": "python3"
  },
  "language_info": {
   "codemirror_mode": {
    "name": "ipython",
    "version": 3
   },
   "file_extension": ".py",
   "mimetype": "text/x-python",
   "name": "python",
   "nbconvert_exporter": "python",
   "pygments_lexer": "ipython3",
   "version": "3.7.4"
  },
  "orig_nbformat": 4
 },
 "nbformat": 4,
 "nbformat_minor": 2
}
