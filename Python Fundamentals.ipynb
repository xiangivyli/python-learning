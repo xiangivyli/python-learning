{
 "cells": [
  {
   "cell_type": "markdown",
   "metadata": {},
   "source": [
    "### 1. String Concatenation"
   ]
  },
  {
   "cell_type": "code",
   "execution_count": 6,
   "metadata": {},
   "outputs": [
    {
     "name": "stdout",
     "output_type": "stream",
     "text": [
      "20 days are 28800 minutes\n"
     ]
    }
   ],
   "source": [
    "print(\"20 days are \" + str(20 * 24 * 60) + \" minutes\")"
   ]
  },
  {
   "cell_type": "code",
   "execution_count": 7,
   "metadata": {},
   "outputs": [
    {
     "name": "stdout",
     "output_type": "stream",
     "text": [
      "20 days are 28800 minutes\n"
     ]
    }
   ],
   "source": [
    "# f-string uses the value of the expression {50}\n",
    "print(f\"20 days are {20 * 24 * 60} minutes\")"
   ]
  },
  {
   "cell_type": "markdown",
   "metadata": {},
   "source": [
    "### 2. Variables\n",
    "Python is dynamically typed, it means it does not require any pre-defined data type for any variable as it is interpreted at runtime by the machine itself."
   ]
  },
  {
   "cell_type": "code",
   "execution_count": 8,
   "metadata": {},
   "outputs": [
    {
     "name": "stdout",
     "output_type": "stream",
     "text": [
      "20 days are 1728000 seconds\n"
     ]
    }
   ],
   "source": [
    "# Define seconds per day\n",
    "calculation_to_seconds = 24 * 60 * 60\n",
    "name_of_unit = \"seconds\"\n",
    "# Using the variables to calculate\n",
    "print(f\"20 days are {20 * calculation_to_seconds} {name_of_unit}\")"
   ]
  }
 ],
 "metadata": {
  "kernelspec": {
   "display_name": "Python 3",
   "language": "python",
   "name": "python3"
  },
  "language_info": {
   "codemirror_mode": {
    "name": "ipython",
    "version": 3
   },
   "file_extension": ".py",
   "mimetype": "text/x-python",
   "name": "python",
   "nbconvert_exporter": "python",
   "pygments_lexer": "ipython3",
   "version": "3.7.4"
  },
  "orig_nbformat": 4
 },
 "nbformat": 4,
 "nbformat_minor": 2
}
